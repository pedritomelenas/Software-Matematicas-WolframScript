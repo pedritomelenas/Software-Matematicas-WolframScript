{
 "cells": [
  {
   "cell_type": "markdown",
   "id": "66d93ce8",
   "metadata": {},
   "source": [
    "# Wolfram script"
   ]
  },
  {
   "cell_type": "markdown",
   "id": "449979a1",
   "metadata": {},
   "source": [
    "## Identificadores\n",
    "\n",
    "Las variables en Mathematica se definen escribiendo `nombre = valor`, usando un simple signo de igualdad (el doble se reserva para la comparación como en `C`; también se puede retardar la evaluación de la parte derecha haciendo uso de `:=`). \n",
    "\n",
    "Los nombres de las variables siguen las convenciones normales, distinguiendo entre mayúsculas y minúsculas."
   ]
  },
  {
   "cell_type": "code",
   "execution_count": 1,
   "id": "1f599b2a",
   "metadata": {},
   "outputs": [
    {
     "data": {
      "text/html": [
       "<div><pre style=\"&#102;&#111;&#110;&#116;&#45;&#102;&#97;&#109;&#105;&#108;&#121;&#58;&#32;&#34;&#67;&#111;&#117;&#114;&#105;&#101;&#114;&#32;&#78;&#101;&#119;&#34;&#44;&#67;&#111;&#117;&#114;&#105;&#101;&#114;&#44;&#109;&#111;&#110;&#111;&#115;&#112;&#97;&#99;&#101;&#59;\">&#49;&#53;</pre></div>"
      ],
      "text/plain": [
       "15"
      ]
     },
     "execution_count": 1,
     "metadata": {
      "text/html": [],
      "text/plain": []
     },
     "output_type": "execute_result"
    }
   ],
   "source": [
    "newvar=15"
   ]
  },
  {
   "cell_type": "markdown",
   "id": "e4642658",
   "metadata": {},
   "source": [
    "Después de esto, cada vez que se usa `newvar`, ésta se reemplaza por su valor (el valor que tenía al hacerse la asignación)."
   ]
  },
  {
   "cell_type": "code",
   "execution_count": 2,
   "id": "3f24db26",
   "metadata": {},
   "outputs": [
    {
     "data": {
      "text/html": [
       "<div><pre style=\"&#102;&#111;&#110;&#116;&#45;&#102;&#97;&#109;&#105;&#108;&#121;&#58;&#32;&#34;&#67;&#111;&#117;&#114;&#105;&#101;&#114;&#32;&#78;&#101;&#119;&#34;&#44;&#67;&#111;&#117;&#114;&#105;&#101;&#114;&#44;&#109;&#111;&#110;&#111;&#115;&#112;&#97;&#99;&#101;&#59;\">&#45;&#51;&#50;&#53;&#52;&#51;</pre></div>"
      ],
      "text/plain": [
       "-32543"
      ]
     },
     "execution_count": 2,
     "metadata": {
      "text/html": [],
      "text/plain": []
     },
     "output_type": "execute_result"
    }
   ],
   "source": [
    "newvar^2-2^newvar"
   ]
  },
  {
   "cell_type": "markdown",
   "id": "228c8925",
   "metadata": {},
   "source": [
    "Podemos inhibir la salida con `;`. Cuando se usa `:=` también se inhibe la salida, pues no se evalua el identificador."
   ]
  },
  {
   "cell_type": "code",
   "execution_count": 3,
   "id": "39a4541b",
   "metadata": {},
   "outputs": [],
   "source": [
    "a:=1"
   ]
  },
  {
   "cell_type": "code",
   "execution_count": 4,
   "id": "59f29d86",
   "metadata": {},
   "outputs": [],
   "source": [
    "b=2;"
   ]
  },
  {
   "cell_type": "code",
   "execution_count": 5,
   "id": "d854074b",
   "metadata": {},
   "outputs": [
    {
     "data": {
      "text/html": [
       "<div><pre style=\"&#102;&#111;&#110;&#116;&#45;&#102;&#97;&#109;&#105;&#108;&#121;&#58;&#32;&#34;&#67;&#111;&#117;&#114;&#105;&#101;&#114;&#32;&#78;&#101;&#119;&#34;&#44;&#67;&#111;&#117;&#114;&#105;&#101;&#114;&#44;&#109;&#111;&#110;&#111;&#115;&#112;&#97;&#99;&#101;&#59;\">&#51;</pre></div>"
      ],
      "text/plain": [
       "3"
      ]
     },
     "execution_count": 5,
     "metadata": {
      "text/html": [],
      "text/plain": []
     },
     "output_type": "execute_result"
    }
   ],
   "source": [
    "a+b"
   ]
  },
  {
   "cell_type": "markdown",
   "id": "123c5adb",
   "metadata": {},
   "source": [
    "Las asignaciones son permanentes. Perduran hasta que se limpie su contenido con el comando `Clear`, o se les reasigne otro valor."
   ]
  },
  {
   "cell_type": "code",
   "execution_count": 6,
   "id": "4cd34ba4",
   "metadata": {},
   "outputs": [
    {
     "data": {
      "text/html": [
       "<div><pre style=\"&#102;&#111;&#110;&#116;&#45;&#102;&#97;&#109;&#105;&#108;&#121;&#58;&#32;&#34;&#67;&#111;&#117;&#114;&#105;&#101;&#114;&#32;&#78;&#101;&#119;&#34;&#44;&#67;&#111;&#117;&#114;&#105;&#101;&#114;&#44;&#109;&#111;&#110;&#111;&#115;&#112;&#97;&#99;&#101;&#59;\">&#50;</pre></div>"
      ],
      "text/plain": [
       "2"
      ]
     },
     "execution_count": 6,
     "metadata": {
      "text/html": [],
      "text/plain": []
     },
     "output_type": "execute_result"
    }
   ],
   "source": [
    "a=2"
   ]
  },
  {
   "cell_type": "code",
   "execution_count": 38,
   "id": "25205a07",
   "metadata": {},
   "outputs": [],
   "source": [
    "Clear[a,b]"
   ]
  },
  {
   "cell_type": "code",
   "execution_count": 8,
   "id": "43c2b783",
   "metadata": {},
   "outputs": [
    {
     "data": {
      "text/html": [
       "<div><pre style=\"&#102;&#111;&#110;&#116;&#45;&#102;&#97;&#109;&#105;&#108;&#121;&#58;&#32;&#34;&#67;&#111;&#117;&#114;&#105;&#101;&#114;&#32;&#78;&#101;&#119;&#34;&#44;&#67;&#111;&#117;&#114;&#105;&#101;&#114;&#44;&#109;&#111;&#110;&#111;&#115;&#112;&#97;&#99;&#101;&#59;\">&#97;</pre></div>"
      ],
      "text/plain": [
       "a"
      ]
     },
     "execution_count": 8,
     "metadata": {
      "text/html": [],
      "text/plain": []
     },
     "output_type": "execute_result"
    }
   ],
   "source": [
    "a"
   ]
  },
  {
   "cell_type": "markdown",
   "id": "6c4b2cb6",
   "metadata": {},
   "source": [
    "## Definiendo funciones (I)\n",
    "\n",
    "El que `WolframScript` sea un lenguage con programación funcional hace que definir funciones en este lenguaje sea muy parecido a cómo se hace en matemáticas, con la salvedad de que para salvar ambigüedades, los parámetros de una función se pasan dentro de corchetes. Por ejemplo, no queda claro en principio si la expresión `q(1-p)` simboliza a la función `q` evaluada en el punto `1-p`, o si es `q` veces `1-p`.\n",
    "\n",
    "Para evitar esta posible confusión, `q[1-p]` denota la función `q` evaluada en `1-p`, y `q(1-p)` es  `q` veces `1-p`.\n",
    "\n",
    "Vamos a definir una función areaCircle que calcule el área de un círculo. Escrito en papel sería algo así como `areaCirculo(r)= \\pi r^2`.\n",
    "\n",
    "Como queremos que la función se aplique no sólo al símbolo `r`, usamos lo que se conoce como un patrón de definición (nótese que usamos :=, y por lo tanto retardamos la evaluación de la parte derecha... ya discutiremos luego la diferencia). Conviene pensar en `r_` como \"cualquier `r`\"."
   ]
  },
  {
   "cell_type": "code",
   "execution_count": 10,
   "id": "1fb6fd89",
   "metadata": {},
   "outputs": [],
   "source": [
    "areaCirculo[r_]:=\\[Pi]*r"
   ]
  },
  {
   "cell_type": "code",
   "execution_count": 11,
   "id": "ea1b6a2d",
   "metadata": {},
   "outputs": [
    {
     "data": {
      "text/html": [
       "<div><img alt=\"Output\" src=\"data:image/png;base64,iVBORw0KGgoAAAANSUhEUgAAABkAAAAYCAIAAACA18GRAAAAz3pUWHRSYXcgcHJvZmlsZSB0eXBlIGV4aWYAAHjabU9bDsMgDPvnFDtCHuDAcehKpd1gx19S2KZOs0TiOHGANJ6PI90CwpRysYoGkCO33KQ7qTQxM1M74yza6vFVT7xM3F0q3wbG0rerbphZ6s8ikkk0bnCueRnWIpWpc5/1tual13pdtMgboM/T/9ZZTVDAlj1mITM05zU59YQiVAwH7oAPMnahfPc8YOY2WExoD2NAhl2nR4K6sMcXNI5oVz4jaXUrK5zrGVmbbBpadOM7LxJfWoqXUK/IAAAACXBIWXMAAA7EAAAOxAGVKw4bAAAAPHRFWHRTb2Z0d2FyZQBDcmVhdGVkIHdpdGggdGhlIFdvbGZyYW0gTGFuZ3VhZ2UgOiB3d3cud29sZnJhbS5jb21coqaFAAAAIXRFWHRDcmVhdGlvbiBUaW1lADIwMjI6MTI6MDggMTY6MzY6MTmhTYJiAAABeUlEQVQ4je2Ur6vCUBTHj4+BP5KmG8Wwf8BiWlAMDsEyEC0Wi6DRujL8J2z+QKsMo+AYD4WxMINtsCQGMYi4iRjOC/ex+ZwMFNvzm773XPjc7+EcbggR4U36ehfof7Emk0kmk4nFYoSQdrtt2/YrMETsdDrhcFiSpPl83u12CSGCIODzAkTUNG25XLolWZYBYLPZvMK603a7BQBVVZ9lMf6uTdMEgFQq5b+6XC6tVgsRFUXJZrMAcDgcLMtKp9M8zz/IVSqVCoVCcIRqtUrNdDodjUaPcw2Hw9lsZhhGwLh2ux0hhPr1el0sFr05ulosFtFodDAYBIfq9XqyLFPfbDaPxyP1HsswjHg8LklSMAgRy+Xy+XymvlarufXfXV2tVvl8vtFoiKIYvI+aprEsG4lE6JFhGMdxvB51XU8kErlc7vtGuq77E5mmyfP86XRyK/1+fzweez1yHOd/P5lM3oEcx6lUKvv9/rZ4vV7r9Tr1Ifz8hR/WX/0AW6E3d1mkKnYAAAAASUVORK5CYII=\"></div>"
      ],
      "text/plain": [
       "2 Pi"
      ]
     },
     "execution_count": 11,
     "metadata": {
      "text/html": [],
      "text/plain": []
     },
     "output_type": "execute_result"
    }
   ],
   "source": [
    "areaCirculo[2]"
   ]
  },
  {
   "cell_type": "markdown",
   "id": "0e93a513",
   "metadata": {},
   "source": [
    "Al pedir la evaluación de `areaCirculo[10]`, WolframScript mira en su base de datos (de reglas de reescritura) y comprueba si existe alguna que empiece por `areaCirculo` y con un sólo argumento. Al usar el patrón `r_` en la definición de `areaCircle` (`r_` es un patrón que se traga cualquier argumento) `WolframScript` coloca `10` en  en cualquier lugar de la parte derecha de la igualdad en el que aparezca `r`. Como es normal el nombre del patrón es irrelevante (si usamos :=).\n",
    "\n",
    "Los argumentos que pasemos a `areaCirculo` no tienen por qué ser números, por ejemplo, podemos escribir `areaCircle[19 c]`, y el argumento `19c` se amolda al patrón `r_`."
   ]
  },
  {
   "cell_type": "code",
   "execution_count": 12,
   "id": "803199ed",
   "metadata": {},
   "outputs": [
    {
     "data": {
      "text/html": [
       "<div><img alt=\"Output\" src=\"data:image/png;base64,iVBORw0KGgoAAAANSUhEUgAAADIAAAAYCAIAAAA3ajm2AAAA0HpUWHRSYXcgcHJvZmlsZSB0eXBlIGV4aWYAAHjabU9bjgMhDPvnFHuEvHDgOExLpd5gj78Jw7aaqpaIjRPzKPP3+Sg/CWEqVr2hAxSwbl1GiEYnTmbqqy6o7B5f/cI7xCOs+m5gbv+4+o6TpX0cRPsGzRtCq+3AfL1g+TzO/bHnZbR2PWiLf4BeT/+6N3VBBbtFNSF39NCthAxCFaqOB25ADDLuQnYLnnCPGDwndGQwIdOv07NAw7jnFzSX6FBelbRFlBWhLTj9LofS0qT5nT8KrlqBs7sm3AAAAAlwSFlzAAAOxAAADsQBlSsOGwAAADx0RVh0U29mdHdhcmUAQ3JlYXRlZCB3aXRoIHRoZSBXb2xmcmFtIExhbmd1YWdlIDogd3d3LndvbGZyYW0uY29tXKKmhQAAACF0RVh0Q3JlYXRpb24gVGltZQAyMDIyOjEyOjA4IDE2OjQxOjE5jrpmywAAAthJREFUSIntljFIMmEYx98LvTuTAiHTegmiUpBocaskCSGRqDF0Kqgxh0yShnKRXKXJ2lKSRJwkoyEsjiBdC5eLSBKSU1DSDk6D9xvu4z7JM3WIz8H/9H8e/rz83nueFw5DCIHuU9//BhBXD6sTdTfW+/t7MBg0m80Yhj0/P38LPT4+mkwmkiTVarXdbv/4+Ph1LoQQQsjtdkMIh4aGAAA0TaM60TQtl8s3NjYSiUQ4HNZqtQaD4evrC/2mQH2RSCQasaxW6+zsrFBms1mZTBYMBn8Vq/VupdNpo9EolBDC1dXVaDTaLM9xnMfj0el0BEGMjIw4HA6WZTudoaRlAkKYy+XqO0ql8vr6WjRcrVbNZnMqlXI4HHNzc8Vi0ev1KhSKg4ODRvrt7W1+RIuLiwCAUqn08vKi1+stFkvrIZ6enpIkGYvFarUawzC7u7uDg4NqtVr04/t8PgzDbm9vhQ7HcRzH/TAvm83Gm1gsdn5+3u4Qt7a2dnZ21tbWSJKcmpqSSqVOp7O/v180HI1G5+fn64eO4ziO480OZxhGpVLx/unpaWZmhvetsTAMOzo6qlQqmUwmn897vd63t7exsTHRcC6X02g0Lc8UdHV1xU8QAJDNZsfHx9vF+pvr64MQ8ve+ubkxGAyiseHh4dfX1/ax4vH40tIS78vl8sDAQAdYHMcJPhAIZDKZ9fV10eTKysrd3d3Dw4PQQQgxDCMaTiaTGo2GJEm+lEgk/94sQqhQKFAURVHU8fExAODi4oKiqPv7e377QqHQ5OSk3++/vLzc398nCOLw8LDZ/n5+fur1erlc7na74/F4OBxeWFhYXl5uTNI0bbFYKpWK0Dk7OwuFQrwHCKFIJNJ4FYIg+ATLsnt7e6OjoziOT09Pn5yc/PCsEELlctnlck1MTEilUgih3W7P5/PfMizLWq3WQqFQ36zVapubm7zHUO83sH31sDpRD6sTdSnWH86T7xGOPDjrAAAAAElFTkSuQmCC\"></div>"
      ],
      "text/plain": [
       "19 c Pi"
      ]
     },
     "execution_count": 12,
     "metadata": {
      "text/html": [],
      "text/plain": []
     },
     "output_type": "execute_result"
    }
   ],
   "source": [
    "areaCirculo[19 c]"
   ]
  },
  {
   "cell_type": "markdown",
   "id": "b02e4bb7",
   "metadata": {},
   "source": [
    "Un ejemplo de una función con dos argumentos:"
   ]
  },
  {
   "cell_type": "code",
   "execution_count": 20,
   "id": "ad901348",
   "metadata": {},
   "outputs": [],
   "source": [
    "volumenCilindro[r_,h_]:=\\[Pi] r^2 h"
   ]
  },
  {
   "cell_type": "code",
   "execution_count": 21,
   "id": "d686cc51",
   "metadata": {},
   "outputs": [
    {
     "data": {
      "text/html": [
       "<div><img alt=\"Output\" src=\"data:image/png;base64,iVBORw0KGgoAAAANSUhEUgAAACQAAAAYCAIAAAAd2sgZAAAA0HpUWHRSYXcgcHJvZmlsZSB0eXBlIGV4aWYAAHjabU/bjQMhDPyniivBL8ZQDpsQ6Tq48s9eSKKNMgh7PH5BmX+/j/KTEKZi1Rs6QAHr1mUEabSwPFM/7QmxneOrXng38QipvhOYWz+uumMPbB+DSBbR3BBc90bfg1SWzmPFx66X0dp10CZPgF5P/xqbuqCC3cKakDt68FaChkMVqo4HbkAUMu5Cdgs/4R5t8KzQkY0JmX6tngUawj2/oHlFh/JpSVu0siK4xUm9yqGpZTa/8w8MKFqBL1z08wAAAAlwSFlzAAAOxAAADsQBlSsOGwAAADx0RVh0U29mdHdhcmUAQ3JlYXRlZCB3aXRoIHRoZSBXb2xmcmFtIExhbmd1YWdlIDogd3d3LndvbGZyYW0uY29tXKKmhQAAACF0RVh0Q3JlYXRpb24gVGltZQAyMDIyOjEyOjA4IDE2OjQ0OjE1sNLa0gAAAmlJREFUSIntlT1o6lAUx29CoWArovGjLlYj1MEWgkuXWkpcBKEZqqOrIioU7NA4iquTk6sORaotLg4tBuRBQAQTaDsVRMQWl6CExPW+4UKaPrXw5NHl9Uznf+7J/eWcm3ODQQjBdxn+baQf2D+G3d/fHx8fGwwGh8NxdXWlqqo+SVXVTCZjs9l2d3cZhhmPxxvSIITFYnF7e7tQKHAcV6lUHA7HxcUF1BnDMB6Pp9FoPDw8nJ2deb1eRVHg3xuAEPZ6PZ7ntVCr1QIATCYTJHmeBwAMBgMkZVm22+2lUmlD2B/2/v4OAOh2u0iyLEtRlD4hnU6fnp5uANtabuzr6ysAwOPxIPny8kJRFHKm02koFKIoql6vrzyUYrE4Go2enp6cTqfVagUAcBxH0zRJkvl8fkVl5+fn4XBYk8FgMJfLQQhJksQw7O3t7e7uDsfxLypIJBKyLEMIZVlOJpNrK6vVao+Pj4IgLL91IBDAcdxkMkEIMQz74qNTFMVoNKJm+P1+Lf4JxvN8MpmsVCo+n08LEgQhSRIA4Pb2FkUkSbJYLOtIo9Fob28P+ZPJxO12a0sfQy2KYiQSYVk2Ho/rHz48PBRFUR8RRfHo6Ggd7ObmJhaLIX82m5nN5o811E1BEAiCuL6+Xj6Afr8PAOj3+0jO53Or1Voul1ee1nw+189otVptt9uaBGg7s9lM0/QvnWm7Qwij0ajL5Wo2m51O5+Tk5ODgYLFYLJMURWEY5vn5WYsMh8NUKvUJFgwGl7uxv7+vJamqms1mCYLY2dlB19XKstLptDb7ml1eXs5mM+Rj8Ofn+QP7L2G/ASPev9pGCkXRAAAAAElFTkSuQmCC\"></div>"
      ],
      "text/plain": [
       "20 Pi"
      ]
     },
     "execution_count": 21,
     "metadata": {
      "text/html": [],
      "text/plain": []
     },
     "output_type": "execute_result"
    }
   ],
   "source": [
    "volumenCilindro[2,5]"
   ]
  },
  {
   "cell_type": "markdown",
   "id": "b10d820a",
   "metadata": {},
   "source": [
    "## Comparando `=` con `:=`\n",
    "\n",
    "La diferencia esencial entre `=` y `:=` es que cuando se usa la primera, el valor que se almacena en la variable o función es el que en ese momento tiene la parte derecha. Si usamos `:=`, lo que hacemos es retardar esa evaluación para cuando se llama a la función o se requiere el valor de la variable.\n"
   ]
  },
  {
   "cell_type": "code",
   "execution_count": 22,
   "id": "9605a9db",
   "metadata": {},
   "outputs": [
    {
     "data": {
      "text/html": [
       "<div><pre style=\"&#102;&#111;&#110;&#116;&#45;&#102;&#97;&#109;&#105;&#108;&#121;&#58;&#32;&#34;&#67;&#111;&#117;&#114;&#105;&#101;&#114;&#32;&#78;&#101;&#119;&#34;&#44;&#67;&#111;&#117;&#114;&#105;&#101;&#114;&#44;&#109;&#111;&#110;&#111;&#115;&#112;&#97;&#99;&#101;&#59;\">&#50;&#51;</pre></div>"
      ],
      "text/plain": [
       "23"
      ]
     },
     "execution_count": 22,
     "metadata": {
      "text/html": [],
      "text/plain": []
     },
     "output_type": "execute_result"
    }
   ],
   "source": [
    "r=23"
   ]
  },
  {
   "cell_type": "code",
   "execution_count": 23,
   "id": "d8272a89",
   "metadata": {},
   "outputs": [
    {
     "data": {
      "text/html": [
       "<div><pre style=\"&#102;&#111;&#110;&#116;&#45;&#102;&#97;&#109;&#105;&#108;&#121;&#58;&#32;&#34;&#67;&#111;&#117;&#114;&#105;&#101;&#114;&#32;&#78;&#101;&#119;&#34;&#44;&#67;&#111;&#117;&#114;&#105;&#101;&#114;&#44;&#109;&#111;&#110;&#111;&#115;&#112;&#97;&#99;&#101;&#59;\">&#54;&#52;&#52;</pre></div>"
      ],
      "text/plain": [
       "644"
      ]
     },
     "execution_count": 23,
     "metadata": {
      "text/html": [],
      "text/plain": []
     },
     "output_type": "execute_result"
    }
   ],
   "source": [
    "f[r_]=28 r"
   ]
  },
  {
   "cell_type": "code",
   "execution_count": 24,
   "id": "de39575f",
   "metadata": {},
   "outputs": [
    {
     "data": {
      "text/html": [
       "<div><pre style=\"&#102;&#111;&#110;&#116;&#45;&#102;&#97;&#109;&#105;&#108;&#121;&#58;&#32;&#34;&#67;&#111;&#117;&#114;&#105;&#101;&#114;&#32;&#78;&#101;&#119;&#34;&#44;&#67;&#111;&#117;&#114;&#105;&#101;&#114;&#44;&#109;&#111;&#110;&#111;&#115;&#112;&#97;&#99;&#101;&#59;\">&#54;&#52;&#52;</pre></div>"
      ],
      "text/plain": [
       "644"
      ]
     },
     "execution_count": 24,
     "metadata": {
      "text/html": [],
      "text/plain": []
     },
     "output_type": "execute_result"
    }
   ],
   "source": [
    "f[5]"
   ]
  },
  {
   "cell_type": "code",
   "execution_count": 25,
   "id": "c8449df9",
   "metadata": {},
   "outputs": [
    {
     "data": {
      "text/html": [
       "<div><pre style=\"&#102;&#111;&#110;&#116;&#45;&#102;&#97;&#109;&#105;&#108;&#121;&#58;&#32;&#34;&#67;&#111;&#117;&#114;&#105;&#101;&#114;&#32;&#78;&#101;&#119;&#34;&#44;&#67;&#111;&#117;&#114;&#105;&#101;&#114;&#44;&#109;&#111;&#110;&#111;&#115;&#112;&#97;&#99;&#101;&#59;\">&#54;&#52;&#52;</pre></div>"
      ],
      "text/plain": [
       "644"
      ]
     },
     "execution_count": 25,
     "metadata": {
      "text/html": [],
      "text/plain": []
     },
     "output_type": "execute_result"
    }
   ],
   "source": [
    "f[6]"
   ]
  },
  {
   "cell_type": "code",
   "execution_count": 26,
   "id": "215ab3fa",
   "metadata": {},
   "outputs": [],
   "source": [
    "Clear[f,r]"
   ]
  },
  {
   "cell_type": "markdown",
   "id": "188d62cc",
   "metadata": {},
   "source": [
    "Usando `:=` el comportamiento es distinto."
   ]
  },
  {
   "cell_type": "code",
   "execution_count": 27,
   "id": "e096b6f0",
   "metadata": {},
   "outputs": [
    {
     "data": {
      "text/html": [
       "<div><pre style=\"&#102;&#111;&#110;&#116;&#45;&#102;&#97;&#109;&#105;&#108;&#121;&#58;&#32;&#34;&#67;&#111;&#117;&#114;&#105;&#101;&#114;&#32;&#78;&#101;&#119;&#34;&#44;&#67;&#111;&#117;&#114;&#105;&#101;&#114;&#44;&#109;&#111;&#110;&#111;&#115;&#112;&#97;&#99;&#101;&#59;\">&#50;&#51;</pre></div>"
      ],
      "text/plain": [
       "23"
      ]
     },
     "execution_count": 27,
     "metadata": {
      "text/html": [],
      "text/plain": []
     },
     "output_type": "execute_result"
    }
   ],
   "source": [
    "r=23"
   ]
  },
  {
   "cell_type": "code",
   "execution_count": 28,
   "id": "a2c33e87",
   "metadata": {},
   "outputs": [],
   "source": [
    "f[r_]:=28 r"
   ]
  },
  {
   "cell_type": "code",
   "execution_count": 30,
   "id": "8c1d87e0",
   "metadata": {},
   "outputs": [
    {
     "data": {
      "text/html": [
       "<div><pre style=\"&#102;&#111;&#110;&#116;&#45;&#102;&#97;&#109;&#105;&#108;&#121;&#58;&#32;&#34;&#67;&#111;&#117;&#114;&#105;&#101;&#114;&#32;&#78;&#101;&#119;&#34;&#44;&#67;&#111;&#117;&#114;&#105;&#101;&#114;&#44;&#109;&#111;&#110;&#111;&#115;&#112;&#97;&#99;&#101;&#59;\">&#49;&#52;&#48;</pre></div>"
      ],
      "text/plain": [
       "140"
      ]
     },
     "execution_count": 30,
     "metadata": {
      "text/html": [],
      "text/plain": []
     },
     "output_type": "execute_result"
    }
   ],
   "source": [
    "f[5]"
   ]
  },
  {
   "cell_type": "code",
   "execution_count": 31,
   "id": "fa1a3572",
   "metadata": {},
   "outputs": [
    {
     "data": {
      "text/html": [
       "<div><pre style=\"&#102;&#111;&#110;&#116;&#45;&#102;&#97;&#109;&#105;&#108;&#121;&#58;&#32;&#34;&#67;&#111;&#117;&#114;&#105;&#101;&#114;&#32;&#78;&#101;&#119;&#34;&#44;&#67;&#111;&#117;&#114;&#105;&#101;&#114;&#44;&#109;&#111;&#110;&#111;&#115;&#112;&#97;&#99;&#101;&#59;\">&#54;&#52;&#52;</pre></div>"
      ],
      "text/plain": [
       "644"
      ]
     },
     "execution_count": 31,
     "metadata": {
      "text/html": [],
      "text/plain": []
     },
     "output_type": "execute_result"
    }
   ],
   "source": [
    "f[r]"
   ]
  },
  {
   "cell_type": "markdown",
   "id": "63b43416",
   "metadata": {},
   "source": [
    "## Manipulando polinomios y expresiones algebraicas\n",
    "\n",
    "Dado un polinomio, `WolframScript` no lleva a cabo apenas ninguna manipulación salvo que se exprese explícitamente, ya que en principio no asume que queramos ver ese polinomio expresado de una u otra forma.\n",
    "\n",
    "Entre las operaciones que automáticamente se llevan a cabo es ordenar los términos con respecto al grado."
   ]
  },
  {
   "cell_type": "code",
   "execution_count": 32,
   "id": "9e6a49eb",
   "metadata": {},
   "outputs": [
    {
     "data": {
      "text/html": [
       "<div><img alt=\"Output\" src=\"data:image/png;base64,iVBORw0KGgoAAAANSUhEUgAAAFoAAAAYCAIAAAD1Wn0yAAAA0HpUWHRSYXcgcHJvZmlsZSB0eXBlIGV4aWYAAHjabU9bDsMgDPvnFDtCHuDAcehKpd1gx19S2KZOs0RinDiENJ6PI90CwpRysYoGkCO33KQ7qTQxM1M744nSV42veuJl4u5S+RYwlr5ddcPMUn8GkUyi8YJzzcuwBqlMndcm2+qXXut10CJvgD6r/71nNUEBW/aYhczQnNfk1BOKUDEcuAPeyNiF8t3zgJnbYNGhPYwBGXbtHgnqwh5f0DiiXfmMpNWtrHBezqi+zKahRTW+8wJTY1q4lzc+/AAAAAlwSFlzAAAOxAAADsQBlSsOGwAAADx0RVh0U29mdHdhcmUAQ3JlYXRlZCB3aXRoIHRoZSBXb2xmcmFtIExhbmd1YWdlIDogd3d3LndvbGZyYW0uY29tXKKmhQAAACF0RVh0Q3JlYXRpb24gVGltZQAyMDIyOjEyOjA4IDE2OjU2OjM3+4M4RwAAA7FJREFUWIXtmEtIKm8Yxj/TaSzGKLstJMsuVHRdmItgsjAKiiRmEYFJuImCIoygqKDLpjZtchMtTGsVXUmDWummC4GFaUVohCuFnMzMkkDnv5j/8eTB9JATHcjfyu+dx+99eOabby40giBAnF8kfLeBf4sfGofL5ZJIJFVVVeXl5QqF4vcB4keyvb2t0WgIgvB4PKWlpRcXF2Sd8X1n6Dtpb28nfyAIwufzrVZrRUUFCF4sdrt9dXW1ubmZRqNZrVZKWprNZrFYnJqaiiAIhmF3d3eUTEstXq/39PS0rq7u/zG5SCYnJzkcTkZGBgDAYrHEvhr1ej2Tyezq6jo4ONjY2BAIBDk5OU9PT7HPTCGBQEAikSwtLQUrIXuHTqejKg4cx1dWVoJDp9OZlJSkUqlin5lC+vv7R0ZG3le+6s7CZrOlUmlwmJ6ezuPxbm9vw4o3NzfpdPrR0RE5fHl54fF4crk8FgM2my0lJWVubi5Y6ejoqKmp8fv9AIBAINDT05OcnPxeAAD4qtXxBz6fj8ViLS8vfyTo7OwsLi5+fX0lCGJoaKigoMDr9cbYdHFxEYbhq6srgiA0Gg0EQcE7yMTEBJ1Or/qFVCol65+Mw2Qyra2t/b2zhYUFNpvtdrs/Ejidzuzs7PHxcaPRCEGQTqejxEBjYyOKos/Pz7m5uVNTU1H1n4zj+PhYoVBElZHc3NwgCKJUKiPLtra2IAgqKyvr6+ujyoDNZmOxWNXV1ZWVlW9vb1H1X/7cgeN4W1sbhmEymSyysqWlhc1mX15earVaqrpzuVyRSLSzs6NSqSAIiqqnEe9e4fR6fUNDg8ViKSwsDKs2mUzz8/MAgPv7exzHS0pKAABisRjDsLB6t9stEonS0tL29vYSExMjWxkdHdVqtTAM5+fnr6+vU2Jgf38fw7DW1laDwWA0GlksVmQPX3ixPD4+CgQCoVD4N5viyckJBEGHh4dmsxmGYbVaHbsBl8vF4XBmZ2e9Xm9RUZFMJotqgwEAwHH8+vqazB4AYDAYHA5HQkJCbW1tlCw/5uHhoampyW63K5XKs7OzYJ3P5zOZzD/EPp+vu7u7t7eX7DgzMzMwMFBfX8/lcj9tAAAwODiYlZU1PDzMYDDUajWKomKxOPh4Hh6CIMKuTBiGYzk509PTYduFXXpyuTwvL8/j8ZBDv9+PoqhQKPT7/Z82sLu7y2Awzs/Pg5WxsbHMzEyHwxHhXyF7R5wf+r3jI+JxhBCPI4R4HCHE4wghHkcI/wEuoy3QY/sQ/QAAAABJRU5ErkJggg==\"></div>"
      ],
      "text/plain": [
       "           2\n",
       "1 + 2 x + x"
      ]
     },
     "execution_count": 32,
     "metadata": {
      "text/html": [],
      "text/plain": []
     },
     "output_type": "execute_result"
    }
   ],
   "source": [
    "2 x+x^2+1"
   ]
  },
  {
   "cell_type": "markdown",
   "id": "ed36c065",
   "metadata": {},
   "source": [
    "y agrupar los de mismo grado"
   ]
  },
  {
   "cell_type": "code",
   "execution_count": 33,
   "id": "10a2aee4",
   "metadata": {},
   "outputs": [
    {
     "data": {
      "text/html": [
       "<div><img alt=\"Output\" src=\"data:image/png;base64,iVBORw0KGgoAAAANSUhEUgAAADYAAAAYCAIAAAA+gZnMAAAA0HpUWHRSYXcgcHJvZmlsZSB0eXBlIGV4aWYAAHjaXU9bEgMhCPv3FD0CDw16HLdrZ3qDHr+wS9vZZkaIgSCW9Xo+yi0gTKU26xgAOeqoQ6aTTifOzDSOeECRNb7qhdPE06X2K2Clvl11y0HS/waR5EvxgnOtachBKqfO87xv2S+z9+ugJB98Nv9u9nevaoIGtuqxCplhOO/FqSc0oWZ44A54I2MXqnfPC2Zug0WHzjAGZNm1exWoC3t8QeOITuUjkna3ssJ5O2Iss2loUY3vvAERLlqMvwmmXwAAAAlwSFlzAAAOxAAADsQBlSsOGwAAADx0RVh0U29mdHdhcmUAQ3JlYXRlZCB3aXRoIHRoZSBXb2xmcmFtIExhbmd1YWdlIDogd3d3LndvbGZyYW0uY29tXKKmhQAAACF0RVh0Q3JlYXRpb24gVGltZQAyMDIyOjEyOjA4IDE2OjU2OjQ3tMKugAAAAsBJREFUSIntlk1IKlEYhr+G0YkMN7MYKBChZAR3RkQLUXDXKiIobGGmuxS0IAnbtaqVYNKyXLgQC4LITVJQDWog45S0LcEoIogoZ3Kh5y7m3unPv3uby72B72rOd57zzTPnnMV0IITg/w72rwWap60oR76h4tHREYZhbrdblu6FQmFqaookya6uLovFcnp6+gdN8LcDnudnZmZUKpUsfsVicXh4mKKoYDCoUqn29vacTifLsjiON19cT3FxcZEkSb1eL4ui3+9Xq9UnJyfiN4+NjZXL5d/1AwBAv3J8fIzjeCaTsVqts7Oz6Gt5fHxUKpUbGxutwFtbWxiGMQwjDkulklar9Xq94vCnIs/zOp1ufn4eIWQ2m7+ueHBwAAA3Nzct8pOTkzRNC4KAEJqbm+vr6yuVSu8UfT6fRLSieH5+HovFGgCRSKS7u/v6+trpdFIUpdFopqenb29v6/H39/cURQUCAY7jFArF4eGhNIUBQCqVWltb29zc7OzsbPF6PD8/393dNQB4nkcIWa1WmqYTiUQ4HM5ms6Ojo9VqtSZPkuT6+vrq6qrNZnO5XBaL5XVOEASaphcWFiTrVnYxlUqFQqEGQDQaxTDs4uJCqnAcBwAcx9Vb8vLyQlEUAFxeXr6tQzwer7cT+/v7H7qcnZ3Z7Xa73T4yMjI0NCQ+b29vf35fLpcDgKurK6kiCAIA7Ozs1FP0+/0Gg8FoNI6Pj79TfHh4YN9nYGBgYmKCZdmnp6d67ZruYrVa7e/vX1pakirJZBIA8vl8TT6dTisUCoZh8vk8QRCRSORV8TMty0EjhHZ3d5VKZSAQYBgmGo329vY6HI6apHjZPB6POFxZWVGr1YVC4a8rIoQSicTg4CBBED09PcvLy+VyuSbm8/m0Wq10aJVKxWQymc3mSqWCEOpA7V/ar6etKEfainLkGyj+APmEbvIOt4irAAAAAElFTkSuQmCC\"></div>"
      ],
      "text/plain": [
       "4 + 6 x"
      ]
     },
     "execution_count": 33,
     "metadata": {
      "text/html": [],
      "text/plain": []
     },
     "output_type": "execute_result"
    }
   ],
   "source": [
    "(1+2 x)+(4 x+3)"
   ]
  },
  {
   "cell_type": "markdown",
   "id": "32a33fea",
   "metadata": {},
   "source": [
    "Sin embargo, `WolframScript` no expande, ni factoriza un polinomio, a no ser que se le pida hacerlo."
   ]
  },
  {
   "cell_type": "code",
   "execution_count": 34,
   "id": "6eb7e884",
   "metadata": {},
   "outputs": [
    {
     "data": {
      "text/html": [
       "<div><img alt=\"Output\" src=\"data:image/png;base64,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\"></div>"
      ],
      "text/plain": [
       "               9\n",
       "(x + 3 y - 5 z)"
      ]
     },
     "execution_count": 34,
     "metadata": {
      "text/html": [],
      "text/plain": []
     },
     "output_type": "execute_result"
    }
   ],
   "source": [
    "(x+3 y-5 z)^9"
   ]
  },
  {
   "cell_type": "markdown",
   "id": "2b93dc0a",
   "metadata": {},
   "source": [
    "Para que se expanda una expresión hay que decirlo explícitamente. La orden que hace eso es `Expand` (con `%` hacemos mención a la salida anterior)"
   ]
  },
  {
   "cell_type": "code",
   "execution_count": 35,
   "id": "4d24c321",
   "metadata": {},
   "outputs": [
    {
     "data": {
      "text/html": [
       "<div><img alt=\"Output\" src=\"data:image/png;base64,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\"></div>"
      ],
      "text/plain": [
       " 9       8          7  2         6  3          5  4          4  5          3  6\n",
       "x  + 27 x  y + 324 x  y  + 2268 x  y  + 10206 x  y  + 30618 x  y  + 61236 x  y  + \n",
       " \n",
       "           2  7            8          9       8           7              6  2\n",
       ">   78732 x  y  + 59049 x y  + 19683 y  - 45 x  z - 1080 x  y z - 11340 x  y  z - \n",
       " \n",
       "           5  3             4  4             3  5             2  6               7\n",
       ">   68040 x  y  z - 255150 x  y  z - 612360 x  y  z - 918540 x  y  z - 787320 x y  z - \n",
       " \n",
       "            8          7  2          6    2           5  2  2           4  3  2\n",
       ">   295245 y  z + 900 x  z  + 18900 x  y z  + 170100 x  y  z  + 850500 x  y  z  + \n",
       " \n",
       "             3  4  2            2  5  2              6  2            7  2\n",
       ">   2551500 x  y  z  + 4592700 x  y  z  + 4592700 x y  z  + 1968300 y  z  - \n",
       " \n",
       "           6  3           5    3            4  2  3            3  3  3\n",
       ">   10500 x  z  - 189000 x  y z  - 1417500 x  y  z  - 5670000 x  y  z  - \n",
       " \n",
       "              2  4  3               5  3            6  3          5  4\n",
       ">   12757500 x  y  z  - 15309000 x y  z  - 7654500 y  z  + 78750 x  z  + \n",
       " \n",
       "             4    4            3  2  4             2  3  4               4  4\n",
       ">   1181250 x  y z  + 7087500 x  y  z  + 21262500 x  y  z  + 31893750 x y  z  + \n",
       " \n",
       "              5  4           4  5            3    5             2  2  5\n",
       ">   19136250 y  z  - 393750 x  z  - 4725000 x  y z  - 21262500 x  y  z  - \n",
       " \n",
       "                3  5             4  5            3  6             2    6\n",
       ">   42525000 x y  z  - 31893750 y  z  + 1312500 x  z  + 11812500 x  y z  + \n",
       " \n",
       "                2  6             3  6            2  7                 7\n",
       ">   35437500 x y  z  + 35437500 y  z  - 2812500 x  z  - 16875000 x y z  - \n",
       " \n",
       "              2  7              8               8            9\n",
       ">   25312500 y  z  + 3515625 x z  + 10546875 y z  - 1953125 z"
      ]
     },
     "execution_count": 35,
     "metadata": {
      "text/html": [],
      "text/plain": []
     },
     "output_type": "execute_result"
    }
   ],
   "source": [
    "Expand[%]"
   ]
  },
  {
   "cell_type": "markdown",
   "id": "7819741e",
   "metadata": {},
   "source": [
    "`Simplify` se usa para simplificar una expresión, buscando entre las expresiones equivalentes a la dada que sea más simple."
   ]
  },
  {
   "cell_type": "code",
   "execution_count": 36,
   "id": "53422d73",
   "metadata": {},
   "outputs": [
    {
     "data": {
      "text/html": [
       "<div><img alt=\"Output\" src=\"data:image/png;base64,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\"></div>"
      ],
      "text/plain": [
       "               9\n",
       "(x + 3 y - 5 z)"
      ]
     },
     "execution_count": 36,
     "metadata": {
      "text/html": [],
      "text/plain": []
     },
     "output_type": "execute_result"
    }
   ],
   "source": [
    "Simplify[%]"
   ]
  },
  {
   "cell_type": "markdown",
   "id": "0e2f1a7c",
   "metadata": {},
   "source": [
    "`WolframScript` no simplifica automáticamente las dos partes de una ecuación. El operador  `==` devuelve `True` sólo si ambas partes son exactamente iguales, formalmente iguales, y no iguales en el sentido matemático."
   ]
  },
  {
   "cell_type": "code",
   "execution_count": 39,
   "id": "71c2a9c7",
   "metadata": {},
   "outputs": [
    {
     "data": {
      "text/html": [
       "<div><img alt=\"Output\" src=\"data:image/png;base64,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\"></div>"
      ],
      "text/plain": [
       "                    2    2\n",
       "(b - x) (b + x) == b  - x"
      ]
     },
     "execution_count": 39,
     "metadata": {
      "text/html": [],
      "text/plain": []
     },
     "output_type": "execute_result"
    }
   ],
   "source": [
    "(b+x) (b-x)==b^2-x^2"
   ]
  },
  {
   "cell_type": "code",
   "execution_count": 40,
   "id": "353d367b",
   "metadata": {},
   "outputs": [
    {
     "data": {
      "text/html": [
       "<div><img alt=\"Output\" src=\"data:image/png;base64,iVBORw0KGgoAAAANSUhEUgAAACkAAAAYCAIAAADoJEOpAAAAz3pUWHRSYXcgcHJvZmlsZSB0eXBlIGV4aWYAAHjabU9bDsMgDPvnFDtCHuDAcehKpd1gx18o2aZOs0RiTBySNJ6PI90mhCnlYhUNIEduuUl3UmlhZaZ2xhPS4o2veuIwcXepfB8wQt+uuiEa1p9GJIvo/MG55jBEI5Wlc1/3Leql13ptFOQN0Gf0v/esJihgyx6zkBma85qcekIRKoYDd8ALGbtQvnseMHMbbFZon8YJGXatHgnqwj5X0HlEu/IZSatbWe3k7FF8mC046VznBRMxWoPZSDumAAAACXBIWXMAAA7EAAAOxAGVKw4bAAAAPHRFWHRTb2Z0d2FyZQBDcmVhdGVkIHdpdGggdGhlIFdvbGZyYW0gTGFuZ3VhZ2UgOiB3d3cud29sZnJhbS5jb21coqaFAAAAIXRFWHRDcmVhdGlvbiBUaW1lADIwMjI6MTI6MDggMTc6MDE6MjcR2LV7AAAB+ElEQVRIie2WP+g5YRzHn/M/f3OJZCEKGTBQBivdIrluYjOYbLIymCUZlBssznSLcgyUSTEgBmVQLEomwy2ne37DlfT9/fS9b7+fn8Vre97P8+nV53muT4dACMGbkLxL/HG/xz0cDpEnVCqVl7qRy+WyXC6FRbVa3e12zWZTWLpcLrvd/kI5fCCbzfr9fvi/EPXe5XI5lUpBCOv1utfrVSgUKIqyLAsAaDQaMpns8XChUPB4PI/JbDaLxWIajQZF0UwmczqdhFzst3a9XtPpNE3TtVptvV53u121Wi2mcDQaRaNRk8nU7/cpijocDhiG8TwPAJB9WywwmUwwDBuPx0KXXzp7BoQwl8thGEZRlJBEIhGHw0HTNEEQYvtWKpUkSX653m9ZrVb7/T6fz98Tg8EQDocXiwUQ37fRaLRYLD8SAwCEp8VxHEGQe8iyrNVq/YH7GXK5HELI87xE8ocrNJvNAACSJEOh0GOu0+n+gdtqtfI8fzwehUnAcdx8Pr/vBoNBp9M5GAwIgvi99m9najQa1Wq1xWJxv99vNptkMslx3H1XKpW22+1Op4PjeK/Xm06n7XY7Ho+fz2cAxM2WUqlks9mejQiGYXw+n0ql8vv9DMPQNO12ux8PbLfbRCKh1+uVSmUgEGi1WrfbDUKIwM+/w8f9cb+SX99OazjhMdAmAAAAAElFTkSuQmCC\"></div>"
      ],
      "text/plain": [
       "True"
      ]
     },
     "execution_count": 40,
     "metadata": {
      "text/html": [],
      "text/plain": []
     },
     "output_type": "execute_result"
    }
   ],
   "source": [
    "Simplify[%]"
   ]
  },
  {
   "cell_type": "markdown",
   "id": "ce860beb",
   "metadata": {},
   "source": [
    "Si `WolframScript` no sabe decidir si existe o no igualdad, entonces deja la expresión tal cual es."
   ]
  },
  {
   "cell_type": "code",
   "execution_count": 41,
   "id": "453f0963",
   "metadata": {},
   "outputs": [],
   "source": [
    "Clear[x]"
   ]
  },
  {
   "cell_type": "code",
   "execution_count": 42,
   "id": "928907c4",
   "metadata": {},
   "outputs": [
    {
     "data": {
      "text/html": [
       "<div><img alt=\"Output\" src=\"data:image/png;base64,iVBORw0KGgoAAAANSUhEUgAAAC0AAAAYCAIAAADhz+PTAAAAznpUWHRSYXcgcHJvZmlsZSB0eXBlIGV4aWYAAHjabU9bDsMgDPvnFDtCHuDAcehKpd1gx19S2KZOs0TiOHGANJ6PI90CwpRysYoGkCO33KQ7qTQxM1M74wnZV4+veuJl4u5S+TYwlr5ddcNaWH8WkUyicYNzzcuwFqlMnfustzUvvdbrokXeAH2e/rfOaoICtuwxC5mhOa/JqScUoWI4cAd8kLEL5bvnATO3wWJCexgDMuw6PRLUhT2+oHFEu/IZSatbWe3kUyfZNLRQ4jsvUhhap+dTm3kAAAAJcEhZcwAADsQAAA7EAZUrDhsAAAA8dEVYdFNvZnR3YXJlAENyZWF0ZWQgd2l0aCB0aGUgV29sZnJhbSBMYW5ndWFnZSA6IHd3dy53b2xmcmFtLmNvbVyipoUAAAAhdEVYdENyZWF0aW9uIFRpbWUAMjAyMjoxMjowOCAxNzowMjoxMLYk3PUAAAH7SURBVEiJ7ZXPyylRHMZ5m82ITH6WhYlQNlLDxgaNLC1kIaEoS0qyloWNspk/gGGHvWxRysbKimQhG82UifE75y7GdU2914rr1utZned8O/XpeTrnCAEAgv9AX+8GuOrDwdeP5BiNRj6fD0EQsVjs9/tns9kbODqdjt1ul0qljUajWq0uFgun07ler69j8K9E03StVrtZiqJgGCZJkrNfAoGgXq9DEDQYDDiyzWaDomg2m31uHjKZLBKJ3KxcLtfpdNPplJdHIBAwm837/R4AkEqljEbjdrt9aTz7/V4ikVQqFc5eOZbLpVKpzOVyw+EQgqBut/tSCAAAQRAymYxhGM4Kwe93vdlshsNhg8GA4zhBEA8STiQSp9OJW7vdbq1WW61Wb9NisahSqR53NB6PMQwjCCIWi/F6AQDsdjuFQiEUCufz+UuToCjKZDJFo9H7zT8cmUzGYrFYrdZgMPg6iNVqhWGYx+M5HA73+9de+v2+y+Xq9XowDNtsNpIkQ6HQ31KNx+PH45Fb4ziOomi5XL5NS6WSWq3+9iDDMF6vF4bhVqslEol4MwAAy7JGozGdTnNohUIBQZCnt0PTNIZhGo2m3W737rTb7QDXSzKZ1Ov1LMtyB87ns8PhwHH8crk8kSOfz38b0mQyAff35b36kf/tA304+Ppw8PULCSefRs3FP00AAAAASUVORK5CYII=\"></div>"
      ],
      "text/plain": [
       "x == 2"
      ]
     },
     "execution_count": 42,
     "metadata": {
      "text/html": [],
      "text/plain": []
     },
     "output_type": "execute_result"
    }
   ],
   "source": [
    "x==2"
   ]
  },
  {
   "cell_type": "markdown",
   "id": "f6c328a7",
   "metadata": {},
   "source": [
    "Si queremos comparar expresiones de forma más estrica (sintácticamente), usaremos `===`."
   ]
  },
  {
   "cell_type": "code",
   "execution_count": 43,
   "id": "61df05fc",
   "metadata": {},
   "outputs": [
    {
     "data": {
      "text/html": [
       "<div><img alt=\"Output\" src=\"data:image/png;base64,iVBORw0KGgoAAAANSUhEUgAAADMAAAAYCAIAAADYqFKIAAAAz3pUWHRSYXcgcHJvZmlsZSB0eXBlIGV4aWYAAHjabU9bDsMgDPvnFDtCHuDAcehKpd1gx19S2KZOs0TimDiQNJ6PI90CwpRysYoGkCO33KQ7qTQxM1M74wnVdcdXPfEycXepfC8wlr5ddcPMUn8GkayX4gXnmpdhDVKZOvdZb6tfeq3XQYu8Afp8/W+d1QQFbNljFjJDc16TU08oQsVw4A54I2MXynfPA2Zug0WH9jAGZNi1eySoC3usoHFEu/IZSatbWe3koahCNg0tlFjnBQvtWn9A5BFkAAAACXBIWXMAAA7EAAAOxAGVKw4bAAAAPHRFWHRTb2Z0d2FyZQBDcmVhdGVkIHdpdGggdGhlIFdvbGZyYW0gTGFuZ3VhZ2UgOiB3d3cud29sZnJhbS5jb21coqaFAAAAIXRFWHRDcmVhdGlvbiBUaW1lADIwMjI6MTI6MDggMTc6MDI6MzZtcRtCAAADMklEQVRIie2WTUgqURTHr/akZhh6YGb2IRkpWC3clEazkCyh1E0lRIsQa1Y6i2hTJESByzRoK7RJCIIGW9kHLdqMmBs12oQfi6QgaDIoaCFz3mJePktCo+I9Hv1WZ/73njv/e+bM5YoAAP2TiP+2gTf5dvZ+PuosGAyKnlGr1Z/iSeC3M5vNJiojl8tVzLdYLLFYLBaLORyOT7SFEPpRjAwGg9frLR1rbGysmC+VSqVSKUJIoVB8lTOZTDY8PPy5q3+EqvosmUxSFNXe3o7juE6n293drf4FhUJhdXVVq9ViGKZQKKanp+PxeOmEq6srp9Mpk8lwHDeZTKenp6+d8Tz/VALP84J+e3vb39//8PDg9/t3dna6u7vtdns0Gq3SmdfrXV9fX1paYlk2EAhIJJKVlZVSW3q9PplMbm5uHhwcaDSawcHBy8tLhBACAACwWq2vVgyHw/DM9fV1MeZ5XqvVUhQFL1lYWOjs7IQyRkdHzWZzuS7gdDqVSuX9/X1RMZlMLpcLAP70GUmSa2trxceurq5iLHR3KpWKx+OZTAYAMplMlTVzu91jY2Pj4+Ozs7NDQ0N1dXWlowzD0DRdX19fVMxm897e3ouaWa3Wt3a2tbWl0WjkcvnExITH4+nr6yNJssqaAcDFxQVN00qlkiCIycnJRCIh6I+PjwghHMd/loBhmEqlAoDKzkKhkFgsDgQChUJBUBwOR7mzxcXFt5wViUajIyMjGIadn58LCkEQ8/Pz2ZfkcjkAqPxvHh8f9/T0UBRVU1MjKMJeX9HQ0MBxHJTdXLLZbDHW6/UMwzw9PbEsKyh2u/3w8FAul6tKaG1tRdWcGr29valU6uTkBADS6fTMzEw4HC6fZjQa7+7u5ubmjo6OfD7fzc0NQojjOJ1OZ7PZQqFQIpFgWdblcmEYZjQahSyfz5fP50mSDAaDkUiEYZipqan9/X2EqugznueXl5dbWlpwHDcYDNvb2xsbG+VfEwD8fn9bWxtBEAMDA2dnZ4KYTqdpmlar1bW1tU1NTRaLJRKJlGZxHOd2u5ubmyUSSUdHh8fjyefzACAqr/8/wv97C/o6vp29n29n7+cX9IuCIV90WHkAAAAASUVORK5CYII=\"></div>"
      ],
      "text/plain": [
       "False"
      ]
     },
     "execution_count": 43,
     "metadata": {
      "text/html": [],
      "text/plain": []
     },
     "output_type": "execute_result"
    }
   ],
   "source": [
    "x===2"
   ]
  },
  {
   "cell_type": "markdown",
   "id": "680d9e52",
   "metadata": {},
   "source": [
    "`Collect` se usa para recolectar términos respecto de una variable (expresa el polinomio como si fuese un polinomio en la variable que se quiera)."
   ]
  },
  {
   "cell_type": "code",
   "execution_count": 44,
   "id": "7909bb24",
   "metadata": {},
   "outputs": [
    {
     "data": {
      "text/html": [
       "<div><img alt=\"Output\" src=\"data:image/png;base64,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\"></div>"
      ],
      "text/plain": [
       " 5      4         3  2       2  3        4    5\n",
       "a  + 5 a  b + 10 a  b  + 10 a  b  + 5 a b  + b  + \n",
       " \n",
       "        4       3         2  2         3      4\n",
       ">   (5 a  + 20 a  b + 30 a  b  + 20 a b  + 5 b ) c + \n",
       " \n",
       "         3       2           2       3   2        2                2   3\n",
       ">   (10 a  + 30 a  b + 30 a b  + 10 b ) c  + (10 a  + 20 a b + 10 b ) c  + \n",
       " \n",
       "                 4    5\n",
       ">   (5 a + 5 b) c  + c"
      ]
     },
     "execution_count": 44,
     "metadata": {
      "text/html": [],
      "text/plain": []
     },
     "output_type": "execute_result"
    }
   ],
   "source": [
    "Collect[Expand[(a+b+c)^5],c]"
   ]
  },
  {
   "cell_type": "markdown",
   "id": "e76490bb",
   "metadata": {},
   "source": [
    "`Coefficient` nos sirve para seleccionar el coeficiente de un término dado."
   ]
  },
  {
   "cell_type": "code",
   "execution_count": 45,
   "id": "4139d9cb",
   "metadata": {},
   "outputs": [
    {
     "data": {
      "text/html": [
       "<div><img alt=\"Output\" src=\"data:image/png;base64,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\"></div>"
      ],
      "text/plain": [
       "    2                2\n",
       "10 b  + 20 b c + 10 c"
      ]
     },
     "execution_count": 45,
     "metadata": {
      "text/html": [],
      "text/plain": []
     },
     "output_type": "execute_result"
    }
   ],
   "source": [
    "Coefficient[Expand[(a+b+c)^5],a^3]"
   ]
  },
  {
   "cell_type": "markdown",
   "id": "46d810a5",
   "metadata": {},
   "source": [
    "`Factor` factoriza..."
   ]
  },
  {
   "cell_type": "code",
   "execution_count": 46,
   "id": "3dd9cebe",
   "metadata": {},
   "outputs": [
    {
     "data": {
      "text/html": [
       "<div><img alt=\"Output\" src=\"data:image/png;base64,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\"></div>"
      ],
      "text/plain": [
       "                  2        3    6\n",
       "(1 + x) (1 - x + x ) (1 - x  + x )"
      ]
     },
     "execution_count": 46,
     "metadata": {
      "text/html": [],
      "text/plain": []
     },
     "output_type": "execute_result"
    }
   ],
   "source": [
    "Factor[x^9+1]"
   ]
  },
  {
   "cell_type": "markdown",
   "id": "0795a10a",
   "metadata": {},
   "source": [
    "Para determinar las variables de un polinomio podemos utilizar `Variables`"
   ]
  },
  {
   "cell_type": "code",
   "execution_count": 47,
   "id": "f1460126",
   "metadata": {},
   "outputs": [
    {
     "data": {
      "text/html": [
       "<div><pre style=\"&#102;&#111;&#110;&#116;&#45;&#102;&#97;&#109;&#105;&#108;&#121;&#58;&#32;&#34;&#67;&#111;&#117;&#114;&#105;&#101;&#114;&#32;&#78;&#101;&#119;&#34;&#44;&#67;&#111;&#117;&#114;&#105;&#101;&#114;&#44;&#109;&#111;&#110;&#111;&#115;&#112;&#97;&#99;&#101;&#59;\">&#123;&#97;&#44;&#32;&#98;&#44;&#32;&#99;&#125;</pre></div>"
      ],
      "text/plain": [
       "{a, b, c}"
      ]
     },
     "execution_count": 47,
     "metadata": {
      "text/html": [],
      "text/plain": []
     },
     "output_type": "execute_result"
    }
   ],
   "source": [
    "Variables[Expand[(a+b+c)^5]]"
   ]
  },
  {
   "cell_type": "raw",
   "id": "cfb608b5",
   "metadata": {},
   "source": [
    "Y el grado lo podemos recuperar de la siguiente forma:"
   ]
  },
  {
   "cell_type": "code",
   "execution_count": 48,
   "id": "3aa40035",
   "metadata": {},
   "outputs": [
    {
     "data": {
      "text/html": [
       "<div><pre style=\"&#102;&#111;&#110;&#116;&#45;&#102;&#97;&#109;&#105;&#108;&#121;&#58;&#32;&#34;&#67;&#111;&#117;&#114;&#105;&#101;&#114;&#32;&#78;&#101;&#119;&#34;&#44;&#67;&#111;&#117;&#114;&#105;&#101;&#114;&#44;&#109;&#111;&#110;&#111;&#115;&#112;&#97;&#99;&#101;&#59;\">&#52;</pre></div>"
      ],
      "text/plain": [
       "4"
      ]
     },
     "execution_count": 48,
     "metadata": {
      "text/html": [],
      "text/plain": []
     },
     "output_type": "execute_result"
    }
   ],
   "source": [
    "Exponent[(1+x) (1-x-x^2) (1-x),x]"
   ]
  },
  {
   "cell_type": "markdown",
   "id": "5dcd9682",
   "metadata": {},
   "source": [
    "Véase también `PolynomialMod`, `PolynomialQuotient`, `PolynomialRemainder`, `PolynomialGCD`, `PolynomialLCM`, `FactorList`, `CoefficientList`, `InterpolatingPolynomial`"
   ]
  },
  {
   "cell_type": "markdown",
   "id": "cc4da679",
   "metadata": {},
   "source": [
    "`WolframScript` no sólo hace simplificaciones con polinomios, sino con tras muchas funciones matemáticas predefinidas."
   ]
  },
  {
   "cell_type": "code",
   "execution_count": 49,
   "id": "62f248db",
   "metadata": {},
   "outputs": [
    {
     "data": {
      "text/html": [
       "<div><img alt=\"Output\" src=\"data:image/png;base64,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\"></div>"
      ],
      "text/plain": [
       "Sec[x] Sin[w]"
      ]
     },
     "execution_count": 49,
     "metadata": {
      "text/html": [],
      "text/plain": []
     },
     "output_type": "execute_result"
    }
   ],
   "source": [
    "(Csc[x]Tan[w])/(Cot[x] Sec[w])"
   ]
  },
  {
   "cell_type": "markdown",
   "id": "2481d2a1",
   "metadata": {},
   "source": [
    "A veces hay que indicarle precisamente qué tipo de función está tratando para manipularla. Por ejemplo, `TrigExpand` expande funciones trigonométricas."
   ]
  },
  {
   "cell_type": "code",
   "execution_count": 50,
   "id": "2d3890b0",
   "metadata": {},
   "outputs": [
    {
     "data": {
      "text/html": [
       "<div><img alt=\"Output\" src=\"data:image/png;base64,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\"></div>"
      ],
      "text/plain": [
       "Cos[β] Cos[γ] Sin[α] + Cos[α] Cos[γ] Sin[β] + Cos[α] Cos[β] Sin[γ] - Sin[α] Sin[β] Sin[γ]"
      ]
     },
     "execution_count": 50,
     "metadata": {
      "text/html": [],
      "text/plain": []
     },
     "output_type": "execute_result"
    }
   ],
   "source": [
    "TrigExpand[Sin[\\[Alpha]+\\[Beta]+\\[Gamma]]]"
   ]
  },
  {
   "cell_type": "markdown",
   "id": "156b4a80",
   "metadata": {},
   "source": [
    "`TrigToExp` convierte funciones trigonométricas a su forma exponencial."
   ]
  },
  {
   "cell_type": "code",
   "execution_count": 51,
   "id": "87676ebe",
   "metadata": {},
   "outputs": [
    {
     "data": {
      "text/html": [
       "<div><img alt=\"Output\" src=\"data:image/png;base64,iVBORw0KGgoAAAANSUhEUgAAAB0AAAAYCAIAAACJPGHrAAAAz3pUWHRSYXcgcHJvZmlsZSB0eXBlIGV4aWYAAHjabU9bDsMgDPvnFDtCHuDAcehKpd1gx19S2KZOs0TiOHGANJ6PI90CwpRysYoGkCO33KQ7qTQxM1M74yz21eOrnniZuLtUvg2MpW9X3TCz1J9FJJNo3OBc8zKsRSpT5z7rbc1Lr/W6aJE3QJ+n/62zmqCALXvMQmZozmty6glFqBgO3AEfZOxC+e55wMxtsJjQHsaADLtOjwR1YY8vaBzRrnxG0upWVjt5RO/KpqGFEt95AVE+Wq7B8NbWAAAACXBIWXMAAA7EAAAOxAGVKw4bAAAAPHRFWHRTb2Z0d2FyZQBDcmVhdGVkIHdpdGggdGhlIFdvbGZyYW0gTGFuZ3VhZ2UgOiB3d3cud29sZnJhbS5jb21coqaFAAAAIXRFWHRDcmVhdGlvbiBUaW1lADIwMjI6MTI6MDggMTc6MDc6MjJE2R4oAAABsklEQVRIie2Vr6vCUBTHz543a/FHUCyCIoIYbIJBMZmWjDJQNAhmh2CwmlwXwT9gKBhEcUWDDA06hQWFFcOYyaBiuC9Mphjem5vyyvumyznnfu45557LJTDG8AF9fQL6AjeRSLwGxvo0Ho91RqpCvx68Wq2m0ykAOJ3OUCj05BVFMZPJqOvdbpdMJlmW1Zsvz/McxzEM80MMx3HBYFCWZb356pEoirlcrt/vOxwO1fKGeVAUhSTJVqsVCAQ0o1nu5XIhSZKm6Xg8/mi/90FRlOFweDqdwuFwNBrV7N1udzabnc/n/X6PECoWi4/7a7Uaz/PH47HRaACA3W4fjUYAQGCMAaDdbrMsu1gsyuUyAAiC0Gw2rVar8UIwxpPJJJvN0jTd6/XU21wul/l8/qWBfRJgjCmKkiQpFos9OtLptBkuAgBZlr1eryRJpVJJq8Pn8xlvgnpvbrd7s9l4PB6GYQiCMIO7S+1mKpWqVCqdTkcrZLvdmunDbR4Gg0G9Xl+v14VCwWazCYLg9/ur1arFYjGW7o0LANfrdT6fHw4Hl8sViUQQMvXE79z36q//i3+uMX0DrK4Tv/b3WTsAAAAASUVORK5CYII=\"></div>"
      ],
      "text/plain": [
       " I z\n",
       "E"
      ]
     },
     "execution_count": 51,
     "metadata": {
      "text/html": [],
      "text/plain": []
     },
     "output_type": "execute_result"
    }
   ],
   "source": [
    "TrigToExp[ Cos[z]+I Sin[z]]"
   ]
  },
  {
   "cell_type": "markdown",
   "id": "e595cfa5",
   "metadata": {},
   "source": [
    "`ExpToTrig` hace lo contrario."
   ]
  },
  {
   "cell_type": "code",
   "execution_count": 52,
   "id": "3a24172c",
   "metadata": {},
   "outputs": [
    {
     "data": {
      "text/html": [
       "<div><img alt=\"Output\" src=\"data:image/png;base64,iVBORw0KGgoAAAANSUhEUgAAAJwAAAAYCAIAAACA+wPUAAAA0HpUWHRSYXcgcHJvZmlsZSB0eXBlIGV4aWYAAHjabU9bbgQhDPvnFHuEvHDgOMwsK/UGPf4mA2011VoicZw4QJnfX6/ySAhTseoNHaCAdesygjRaWJmpX/FCP3eP73rhbeIRUv1rYG79uOuOlaX9W0SyiOYNwdW2YS9SWTqPVR97XkZr90Wb/AD0+/SPtakLKtgtogm5owdvJWgkVKHqeOEEYpDxFLIz8oR72OA5oSONCZl+n54FGsIzv6B5RIfyFUlbWFn94hlNVQ5NLZX8zhtbyVq4ZrrAMgAAAAlwSFlzAAAOxAAADsQBlSsOGwAAADx0RVh0U29mdHdhcmUAQ3JlYXRlZCB3aXRoIHRoZSBXb2xmcmFtIExhbmd1YWdlIDogd3d3LndvbGZyYW0uY29tXKKmhQAAACF0RVh0Q3JlYXRpb24gVGltZQAyMDIyOjEyOjA4IDE3OjA3OjQzZYSJOAAABq1JREFUaIHtmX9MUm0Uxx/AMC6xtMwoC/rBHCsrt4qcSTkwV2MpS5MIrSW23pQVzdWq9UeWjmzWWK3fWjqdGzNWoyVrFSmKWrKyqHBuLExIDPjHaK2Ae98/bt2XCerVyN45Pn/xnHvOc78+595zz/NIQBAERJheEP+2gAjhJ5LUaUgkqdOQSFLDwJcvX1gsFpfL/dtCfvJfUg0Gg0AgiImJodFo27ZtM5lMf1HWFIAgiMfjGdett7c3Nzd3wYIFs2bN4nK59+/fD/YZHh62Wq1v376FYfgPKJ0wBLT7bWxsLCgo4HK5+fn50dHRdXV1fX19FotlxowZ4bpTcXExmUwGAFRVVUVFReGM0mg0Op3O5XLJZLKUlJRwiQEAWK3WpUuXer3eMcTY7fbk5OTly5cXFRVBEPT06dPa2lqtVpuZmTnC02w2QxDEZDInoST8K4MgiM1mo1Kpe/bsQX4Bw7DFYkHCikQimXRsfX29VqsNoxgEQQYHBzdu3Ojz+cbwKS8vp1AoHo8Hs7x+/RqG4fAqCfvKEAEA1dXVfr9fqVRimSYQCMuWLcOGNptNIpHMmTMHgiA+n9/V1RX4WDgcDqlUymAwoqOjWSzWsWPHhoaGcD5u1dXVhCD27duHM/x3oNPp7e3tJBJpDB8ikYggSGBRXb16NYFAQH9XVVUFyh7xuvT29hIIBI/Hc+7cOSaTSaPRMjIyPnz4gFNefn5+8MrU1dXhiSUCAPR6/dq1a2NjY0N6OJ3O1NTUly9fKpXKhoaGqKiozZs3d3R0YA67du0yGo3Xrl3r7Ow8e/Zsd3d3Q0MDTunZ2dmdAaSnp8fGxp46dQpn+ORQq9X//OLOnTtjeObk5AAA+Hx+W1tb8FWJRIIpz8rKCjlDRkaG2+1ubW1taWmx2+1SqRSnyLKyMmxynU5Hp9PXr18vEolwBSMIwmazCwoKRnvBDx06RKPRnE4nOvT7/evWreNwOJgDBEEVFRXjFopxi8yNGzdIJNKjR49wFpmQmEwmlUqFx3Pv3r1er3dcVa2trYmJiQAADofT1NQ0Wu2VSqUbNmwItJjNZgCAQqHALDU1NQCAr1+/jogdV8Pu3bvpdLrNZgu+NGr5RRDE7/ePlvWHDx8KhcK4uDh0SCQS9+/f/+LFC6zGyuXyM2fOyOXy58+fI5M9dGxvb5fJZJWVlcE9yITweDyfP3/+nRlGsGnTpvfv36tUKhiGd+7cmZaW5nK58IenpaVhv9Ev2uDg4IQEVFZW3r17V61WJyQk4AwhAgAWLVo0Rq0fGhpiMBiBlsWLF6N2dFhRUdHc3OxwODIzMxMSEkpLSye6rAMDAzk5OSKRqLS0dEKBUwOJRMrLy+vu7tZoND09PZP+OqCdrdfrxR+i1WpPnjx59erV1NTUCdwIAJCenl5eXu5yubDXMZB58+bZbLZACzqMj4/HLDwej8fj/fjxo7m5+fjx4w8ePHj37h3O7dC3b9+EQiGDwbh16xZ+3SMwmUwXLlwAADidTrfbbTQaAQBZWVk7duyY9JzBbN++XSQS6fX6MM45Bn19fWKx+ODBg/i/xChRAIDCwkKFQiGXy+vr67HWTqVS5ebmkkgkoVB4+/Ztt9s9d+5cAAAMwzU1NSkpKXQ6HfW0Wq1LliwBAJDJZKFQSKFQtm7d2t/fz2Kx8CgoKiqy2+1Go3HmzJkTkh7IqlWramtrAQBdXV1Go1Emk016qkAuXbqUlJTE4/Ewi8ViCfnoh53h4eHs7Ozk5OTAXQlOogAACxcuvHLlSmFhYX9/P3r40NTU1NLSsnLlyqSkpNOnT6vVai6Xe+LECSqVevPmzVevXmG7msePHwsEggMHDgiFwvj4+E+fPpWVlbHZ7MAd0RicP3++sbFRqVQ6HA6Hw4EaIQhasWLFRP+SsAPDsEajOXLkiFgs5vP5fr//3r17BoPh2bNnU3BriURis9kuXrzY09OD2efPn49++8YBa5l0Oh2fz6fRaDQaTSAQvHnzBrv08eNHsVgcExNDoVB4PF5HR0dgr6XX6/Py8uh0OplMZjKZUql0YGAguE8L7vG+f/9OJIY4fF6zZg2eHi8knZ2dly9fHttHoVCUlJSw2ezi4uLExMSSkpKjR4+G9PT5fNevX+dwOFQqNS4ubsuWLQaDIaTnaN1vW1sbZkH3RWazeURs8Mo8efIkZLIOHz48wjPkygBkqvi/nSj9f/gjJ0oRphlTl1QIgtBDHJ/Phz8KPf3RaDSzZ8/+c9r+LmFfmZ//pYkwnYiU32lIJKnTkEhSpyH/Ao37kLEclHKqAAAAAElFTkSuQmCC\"></div>"
      ],
      "text/plain": [
       "Cos[z] + I Sin[z]"
      ]
     },
     "execution_count": 52,
     "metadata": {
      "text/html": [],
      "text/plain": []
     },
     "output_type": "execute_result"
    }
   ],
   "source": [
    "ExpToTrig[%]"
   ]
  },
  {
   "cell_type": "markdown",
   "id": "5f6540fc",
   "metadata": {},
   "source": [
    "`FullSimplify` calcula la forma equivalente a la dada más simple posible cuando trata con funciones especiales."
   ]
  },
  {
   "cell_type": "code",
   "execution_count": 53,
   "id": "4fe2f498",
   "metadata": {},
   "outputs": [
    {
     "data": {
      "text/html": [
       "<div><pre style=\"&#102;&#111;&#110;&#116;&#45;&#102;&#97;&#109;&#105;&#108;&#121;&#58;&#32;&#34;&#67;&#111;&#117;&#114;&#105;&#101;&#114;&#32;&#78;&#101;&#119;&#34;&#44;&#67;&#111;&#117;&#114;&#105;&#101;&#114;&#44;&#109;&#111;&#110;&#111;&#115;&#112;&#97;&#99;&#101;&#59;\">&#122;</pre></div>"
      ],
      "text/plain": [
       "z"
      ]
     },
     "execution_count": 53,
     "metadata": {
      "text/html": [],
      "text/plain": []
     },
     "output_type": "execute_result"
    }
   ],
   "source": [
    "FullSimplify[Abs[z] Exp[I Arg[z]]]"
   ]
  },
  {
   "cell_type": "markdown",
   "id": "49f99021",
   "metadata": {},
   "source": [
    "Ver también `FunctionExpand`, `TrigReduce`"
   ]
  },
  {
   "cell_type": "markdown",
   "id": "479e51c7",
   "metadata": {},
   "source": [
    "## Definiciones de funciones (II)\n",
    "\n",
    "Revisitamos ahora la definición de funciones para introducir métodos un poco más potentes para definir una función. Las definiones que hemos visto hasta ahora son de la forma."
   ]
  },
  {
   "cell_type": "code",
   "execution_count": 54,
   "id": "366eeeef",
   "metadata": {},
   "outputs": [],
   "source": [
    "func[z_]:=1+z^10"
   ]
  },
  {
   "cell_type": "markdown",
   "id": "67f1cbd1",
   "metadata": {},
   "source": [
    "El cuerpo de la función puede ser tan complicado como sea necesario, y puede contener expresiones compuestas. Esto se hace de la siguiente forma."
   ]
  },
  {
   "cell_type": "code",
   "execution_count": 55,
   "id": "0e5a8282",
   "metadata": {},
   "outputs": [],
   "source": [
    "setXandY[xval_,yval_]:=(X=xval;Y=yval;Print[\"X es ahora \",X,\", e Y es ahora \",Y])"
   ]
  },
  {
   "cell_type": "code",
   "execution_count": 56,
   "id": "c0da201c",
   "metadata": {},
   "outputs": [
    {
     "name": "stdout",
     "output_type": "stream",
     "text": [
      "X es ahora 3, e Y es ahora 2\n"
     ]
    }
   ],
   "source": [
    "setXandY[3,2]"
   ]
  },
  {
   "cell_type": "code",
   "execution_count": 57,
   "id": "e3f91ad4",
   "metadata": {},
   "outputs": [
    {
     "data": {
      "text/html": [
       "<div><img alt=\"Output\" src=\"data:image/png;base64,iVBORw0KGgoAAAANSUhEUgAAABEAAAAqCAIAAADasifDAAAAz3pUWHRSYXcgcHJvZmlsZSB0eXBlIGV4aWYAAHjabU/bDQMhDPtnio4QEnBgHK7HSd2g4zcB2oqqlogd5wGE/nxc4ebgSCFlLagAGVJNlZuJQhOTI9URZ7LY8s0PY9DzZlb+FtCXf+y+YjKXn0XEU4jfYFrSGliLhKcf14XH6udWyr7o/dQF0Ofpf/MkysiImiwmJlVU0yWYNEJmyooLd8AaI06mdDfuULUxqHdI80EHd927e4CYcfoXxA9LkzgiSbHRKDocW+JVPsQ9r/p3Xj9iWp/VVsDvAAAACXBIWXMAAA7EAAAOxAGVKw4bAAAAPHRFWHRTb2Z0d2FyZQBDcmVhdGVkIHdpdGggdGhlIFdvbGZyYW0gTGFuZ3VhZ2UgOiB3d3cud29sZnJhbS5jb21coqaFAAAAIXRFWHRDcmVhdGlvbiBUaW1lADIwMjI6MTI6MDggMTc6MTA6MjLkbg8hAAAB+UlEQVRIie2UPaviQBSG564L0bERGYwfRcBWxSogAQUhWipo749QK4tgIWjhDwgWliJio6KCoJVFCiMStLKxMIUWgqAiUcgthBBjzL3L7nb3bYb3zDzJOWc+PmRZBn+oXxrf6/UoirJarU6nM51OL5dLHUhWqdVqQQgZhplMJu12myRJhJAoivKznpj7/b7ZbBQriiIAgGVZDfOUm8lkIghCsdfrFQCAEDLKTdHlchkOh8FgkKbp2+1mlNtDhULh8blMJiNJ0usCHWa323Ecx7Ksz+cLh8PH4/FrRtH5fCYIIpfLaeLa/VELQkhR1HQ6NdrTbre73W4VK0kSz/Nut9uobzRNI4TK5fJoNGo2m5FIxGKxLBYLo3okSapWq4FAAEKI43gikeB5/rXOD/nvz+gP8/+Y349hMBgcDod3i3Acj8ViWgYhhGHYO8Zms6ntzzn4N0yn0wmFQhBCh8ORzWZPp5MOpL6AlUoFw7BisTiZTGq1msvlSiaTr/f0iZnNZtPpVLH9fh8AoH7BdRiN9vs9AGA8HmviRj1Yr9cAAK/Xa1SPRqlUiqbpL+pRq9FomM3m1Wr1XYbjOAhhvV7XndVhBEGw2+0Mw7xLQcsIgoAQyufz7wBZ847O5/N4PO73+0ulkhLEMIwkybd9i0ajrx33eDxG//mmPgFfQBOOGSfdxgAAAABJRU5ErkJggg==\"></div>"
      ],
      "text/plain": [
       "3\n",
       "-\n",
       "2"
      ]
     },
     "execution_count": 57,
     "metadata": {
      "text/html": [],
      "text/plain": []
     },
     "output_type": "execute_result"
    }
   ],
   "source": [
    "X/Y"
   ]
  },
  {
   "cell_type": "code",
   "execution_count": 58,
   "id": "a7f8895a",
   "metadata": {},
   "outputs": [],
   "source": [
    "Clear[func,X,Y,setXandY]"
   ]
  },
  {
   "cell_type": "markdown",
   "id": "b0ee4bdf",
   "metadata": {},
   "source": [
    "Podemos sacarle un poco más de jugo a los patrones (más adelante volveremos sobre este extenso tema) para hacer que la función se evalúe sólo en algunos tipos de entrada predeterminados. Veamos unas cuantas formas alternativas de definir el factorial. La que viene a continuación se asemeja mucho a la definición que se pueda dar en una clase de matemáticas elemental (salvo por los corchetes)."
   ]
  },
  {
   "cell_type": "code",
   "execution_count": 59,
   "id": "98fac04e",
   "metadata": {},
   "outputs": [],
   "source": [
    "fac[n_]:=n fac[n-1];fac[0]:=1"
   ]
  },
  {
   "cell_type": "code",
   "execution_count": 60,
   "id": "4e4fa781",
   "metadata": {},
   "outputs": [
    {
     "data": {
      "text/html": [
       "<div><pre style=\"&#102;&#111;&#110;&#116;&#45;&#102;&#97;&#109;&#105;&#108;&#121;&#58;&#32;&#34;&#67;&#111;&#117;&#114;&#105;&#101;&#114;&#32;&#78;&#101;&#119;&#34;&#44;&#67;&#111;&#117;&#114;&#105;&#101;&#114;&#44;&#109;&#111;&#110;&#111;&#115;&#112;&#97;&#99;&#101;&#59;\">&#123;&#49;&#48;&#51;&#51;&#51;&#49;&#52;&#55;&#57;&#54;&#54;&#51;&#56;&#54;&#49;&#52;&#52;&#57;&#50;&#57;&#54;&#54;&#54;&#54;&#53;&#49;&#51;&#51;&#55;&#53;&#50;&#51;&#50;&#48;&#48;&#48;&#48;&#48;&#48;&#48;&#48;&#44;&#32;&#49;&#48;&#51;&#51;&#51;&#49;&#52;&#55;&#57;&#54;&#54;&#51;&#56;&#54;&#49;&#52;&#52;&#57;&#50;&#57;&#54;&#54;&#54;&#54;&#53;&#49;&#51;&#51;&#55;&#53;&#50;&#51;&#50;&#48;&#48;&#48;&#48;&#48;&#48;&#48;&#48;&#125;</pre></div>"
      ],
      "text/plain": [
       "{10333147966386144929666651337523200000000, 10333147966386144929666651337523200000000}"
      ]
     },
     "execution_count": 60,
     "metadata": {
      "text/html": [],
      "text/plain": []
     },
     "output_type": "execute_result"
    }
   ],
   "source": [
    "{fac[35],35!}"
   ]
  },
  {
   "cell_type": "markdown",
   "id": "f99152a2",
   "metadata": {},
   "source": [
    "De hecho, la función factorial sería deseable que se aplicase sólo a enteros... Para conseguir esto, especificamos un poco mejor el patrón. Para conocer el \"tipo\" de una expresión usamos la función `Head`.  \n",
    "\n",
    "En el caso de números los posibles valores son `Integer`, `Rational`, `Real`, y `Complex`. (Esta función nos muestra la cabecera de la expresión tal y como la almacena `WolframScript`, para ver la expresión al completo, úsese `FullForm`.)"
   ]
  },
  {
   "cell_type": "code",
   "execution_count": 61,
   "id": "28b19378",
   "metadata": {},
   "outputs": [
    {
     "data": {
      "text/html": [
       "<div><img alt=\"Output\" src=\"data:image/png;base64,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\"></div>"
      ],
      "text/plain": [
       "Integer"
      ]
     },
     "execution_count": 61,
     "metadata": {
      "text/html": [],
      "text/plain": []
     },
     "output_type": "execute_result"
    }
   ],
   "source": [
    "Head[3]"
   ]
  },
  {
   "cell_type": "code",
   "execution_count": 62,
   "id": "2d4c2797",
   "metadata": {},
   "outputs": [
    {
     "data": {
      "text/html": [
       "<div><img alt=\"Output\" src=\"data:image/png;base64,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\"></div>"
      ],
      "text/plain": [
       "Rational"
      ]
     },
     "execution_count": 62,
     "metadata": {
      "text/html": [],
      "text/plain": []
     },
     "output_type": "execute_result"
    }
   ],
   "source": [
    "Head[1/2]"
   ]
  },
  {
   "cell_type": "code",
   "execution_count": 63,
   "id": "60b9479a",
   "metadata": {},
   "outputs": [
    {
     "data": {
      "text/html": [
       "<div><img alt=\"Output\" src=\"data:image/png;base64,iVBORw0KGgoAAAANSUhEUgAAACkAAAAYCAIAAADoJEOpAAAAznpUWHRSYXcgcHJvZmlsZSB0eXBlIGV4aWYAAHjabU9tjkMhCPzvKfYIfOigx/G1Ntkb7PEXnrTNazqJMAwMall/v4/yExCmUpt1DIAcddQh00mnjZ2ZxhlPyMgeX/XCaeLpUns3sFI/rrohF/aPRSSbaNzgXGsacpHK1nnu+sh5mb1fFyV5AvR6+te6qgka2KrHKmSG4bwXp57QhJrhgRvgg4y7UL15XjBzGywmdIYxIMuu06tAXbjHFzSO6FQ+I2l3K6udiqZyaGjB4zv/E2FahdB/XkUAAAAJcEhZcwAADsQAAA7EAZUrDhsAAAA8dEVYdFNvZnR3YXJlAENyZWF0ZWQgd2l0aCB0aGUgV29sZnJhbSBMYW5ndWFnZSA6IHd3dy53b2xmcmFtLmNvbVyipoUAAAAhdEVYdENyZWF0aW9uIFRpbWUAMjAyMjoxMjowOCAxNzoxMzowOCQ4K1MAAALWSURBVEiJ7ZY/SDJhHMcf7by8c0gqdQkiEME8t6YcG4KMlnZxCRsjFZdC+oO0lBG1NGRBS1BLpQkukkHQA0kNNSi8gidyYaiBhdydv3e4970kj9egN1r8Tvd7vt+7z3Pf54ZTAQD6Ial/Ctxhf5NYllU1iWXZj+zz83PZ1ul0drs9HA43Go2vs00mE8YYY7y1tdXqEvLV6empwWCoVqvJZNLv99dqtYWFhS+yNRrNyMgIQqhUKinYAHB2doYQyufz8Fdzc3N6vR7+ny4uLj4gAED5vO12e6VSeXt7k8Z6vR4MBoeGhrq7uxmGOTw8bA5zHLe4uMgwDE3TZrN5aWlJFMXPtEIorj48PPT29lIUhRASRXFycvL+/j4UCtlstlQqNTMzQ1HU9PS0FHY6nSRJzs/PDwwMXF5erq6uarXaQCDQHi53nsvleJ7nOG5vb0+r1Xq9XqmZg4ODrq4ujLHc1fLy8vDwsDwWi8XmJj0ej9ls/kzn72xZJEnOzs7W63UpMTU15XA4mu+5vr5WqVSvr6/NixzHxWKxzc3N8fFxgiAajUZb9nvn0WjUaDT6/f5yubyzs6NW//kUisXi3d2dXq+Xk9Jzn56eBgcHEUIYY6/Xe3t763A4GIbp6ekRBEEURYJQPlCFzqVNpdNptVq9u7sr787pdI6Ojv5qkSAIAMCyrE6n83g8Ly8vUj4SiSCEeJ5vfsV4PP6vzmXD7XYbjcZqtSqN+/v7NE0/Pj6Ckk5OThBCz8/P8sr29nYrG2OMEEqn023YhUKBpmmfzyeHJiYmTCZTOBxOpVKxWMzn862srEhWNpslCGJ9fZ3n+VKptLa21tfX18qu1Wr9/f1jY2PxeDwSiVxdXSmzASAYDJIkmclkpFEQhI2NDYvFotFoDAaDy+WSLQA4Pj62Wq0URVksllAodHNz08oGgEQiYbPZKIqyWq1HR0cAoILOv0OH3WF/p34D2nb9+ftrT9gAAAAASUVORK5CYII=\"></div>"
      ],
      "text/plain": [
       "Real"
      ]
     },
     "execution_count": 63,
     "metadata": {
      "text/html": [],
      "text/plain": []
     },
     "output_type": "execute_result"
    }
   ],
   "source": [
    "Head[1.2]"
   ]
  },
  {
   "cell_type": "code",
   "execution_count": 64,
   "id": "6e3e4cb6",
   "metadata": {},
   "outputs": [
    {
     "data": {
      "text/html": [
       "<div><img alt=\"Output\" src=\"data:image/png;base64,iVBORw0KGgoAAAANSUhEUgAAAEgAAAAYCAIAAADWASznAAAA0HpUWHRSYXcgcHJvZmlsZSB0eXBlIGV4aWYAAHjabU9bjgMhDPvnFHuEvHDgOExLpd5gj7/JQLeaqpZIHMcJUObv81F+EsJUrHpDByhg3bqMII0WVmbqZzxhrx5f9cK7wSOk+m5gbv246o6VpX0sIllE84bgantgL1JZOo9VH9svo7Xrok1eAP0//Wtt6oIKdotoQu7owVsJGglVqDoeuAFhZNyF7BZ5wj3G4OnQkYMJmX51zwIN4Z5f0DyiQ/mMpC1GWf1UNGI45NDUspvf+QMUgFqADH76ogAAAAlwSFlzAAAOxAAADsQBlSsOGwAAADx0RVh0U29mdHdhcmUAQ3JlYXRlZCB3aXRoIHRoZSBXb2xmcmFtIExhbmd1YWdlIDogd3d3LndvbGZyYW0uY29tXKKmhQAAACF0RVh0Q3JlYXRpb24gVGltZQAyMDIyOjEyOjA4IDE3OjEzOjIwGNXB4wAABM5JREFUWIXtWFFIU20Y/jb/s+nZjo21PBM9KzPRwIsYokKN2Rk6nSDilW02E0qmUTQjBIcIwi7Mi3khlJSMqQMHbhql3hmEG2Iw1JV3ao4ZTVc2xI2ks6+L8/+fa/7GLtQofK7O+zwv73ue73u/c7bDgRCCvxHc330Dx4VTY38afrOxS5cucf7DyMjIEVbeN+Z2u6urq0UiEUEQVVVVPp/vCNschomJibdv37rd7qMvDSGEENrtdi6Xq1Qqnz17NjQ0pFKpKIra29uDJ4JoNAoAGB4ePsKaAEIYCAQEAoFer0dsLBZbWVk5wja/xnEY4wIAnj9/zjBMX18f2kYOh3Px4kUUBgIBnU4nFotxHFepVHNzc0iqrKw0m81KpRLH8e7ubofDIZFICgsL/X4/myCVSh0OR2dnJ0VRqampCoVicXEx+YH6+PFjU1OTRCLBcZym6fn5eSQ5nc6UlBSPx8OGkUgkJyfHaDTujyJN01evXj3M+ubmJkVRBQUFNpvN6XRWVFTweDy3282qarU6LS1tampqcHCQz+c3NDSsrq7m5uY+fPiQTSBJks/nm0ymQCCwvLxcUVEhlUojkUgyO7axsZGVlSWXy1+8ePHmzZvm5mYcx/1+P0qor6/Pz8+PRqMQwra2ttzc3N3dXVYCEMKCgoKbN28eZuz+/fsEQWxtbbEhwzBFRUXFxcXIWF1dHesfAMB21Wq1NTU1yBgyCSH89OkThmEDAwPJGGtqaqIoKhwOI4am6dbWVhSGQiGSJE0m0+LiIoZhr1+/RhKX3TSGYQ4bhsnJydraWolEwoZcLvfOnTvz8/PBYJBlCIIAAGAYFn/97ds3VEEkEqFrkiTz8vIWFhaSmUOXy6XX69PT0xFTXl7u9XpRePbs2SdPnjx+/Fir1d6+fbusrAxJ/wAAsrOz19bWDqseDAZlMlk8Q1EUy5Mkmcz9JUAoFKJF+QUikUg4HLZYLP39/Yjc29tLaKrRaMRi8fv371+9ehXPcwEAZWVlXq83FAr9b4Nz584FAoF4hg0zMjKS9rIPCOGHDx+kUmk8yeFwDmbiOC4UCg0Gw0IclpeXZ2dn49O6urokEolcLn/06FFip42NDRzHdTpdLBZDMzo6Ovr9+3cIodFoPHPmTCgUQmespKSktLQUnbHGxkYI4fb2NgBge3sbQtjY2KhWq9EZa29vR2VdLhcA4OXLlwnHSSgUWiyWBPLWrVuFhYXoeXAQc3NzGIa53e53797x+XybzYakf1/QVquVw+Fcu3bt6dOnVqtVo9HgOO7z+SCE4XBYJpNdvnx5aGjI6XSq1Woej+f1epM3xuPxDAbD+Ph4b2+vQCC4fv16/Aqy0Gg058+fHxsbc7lcdrudJT9//pydnX3lypXh4WGPx+N0Ouvr66enp1k1Go3m5+ffu3ePDXt6etLT09fX138yBiGcmZlRqVQEQRAEUV1dvbS0hCS/33/jxg2RSJSWlkbTtMfjQVIyxrq6uh48eCASicRicUtLy87OzsG1X11dpWlaIBBQFNXR0YH4L1++3L17NzMzE8OwnJwck8n09etXVjIajRcuXEDVGIZRKBRKpZJhmJ+MHRNIkjSbzcfd5SBO4td9LBY7gS4JOP0/9qeBA08/5vxZ+GuN/QBBzPX7Lpx81QAAAABJRU5ErkJggg==\"></div>"
      ],
      "text/plain": [
       "Complex"
      ]
     },
     "execution_count": 64,
     "metadata": {
      "text/html": [],
      "text/plain": []
     },
     "output_type": "execute_result"
    }
   ],
   "source": [
    "Head[3+3 I]"
   ]
  },
  {
   "cell_type": "code",
   "execution_count": 65,
   "id": "5ac8c333",
   "metadata": {},
   "outputs": [
    {
     "data": {
      "text/html": [
       "<div><img alt=\"Output\" src=\"data:image/png;base64,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\"></div>"
      ],
      "text/plain": [
       "Integer"
      ]
     },
     "execution_count": 65,
     "metadata": {
      "text/html": [],
      "text/plain": []
     },
     "output_type": "execute_result"
    }
   ],
   "source": [
    "Head[2+3]"
   ]
  },
  {
   "cell_type": "code",
   "execution_count": 66,
   "id": "390bf8d1",
   "metadata": {},
   "outputs": [
    {
     "data": {
      "text/html": [
       "<div><img alt=\"Output\" src=\"data:image/png;base64,iVBORw0KGgoAAAANSUhEUgAAACkAAAAYCAIAAADoJEOpAAAAz3pUWHRSYXcgcHJvZmlsZSB0eXBlIGV4aWYAAHjabU9bDsMgDPvnFDtCHuDAcehKpd1gx19S2KZOs0TiOHGANJ6PI90CwpRysYoGkCO33KQ7qTQxM1M74wlpq8dXPfEycXepfBsYS9+uumEtrD+LSCbRuMG55mVYi1Smzn3W25qXXut10SJvgD5P/1tnNUEBW/aYhczQnNfk1BOKUDEcuAM+yNiF8t3zgJnbYDGhPYwBGXadHgnqwh5f0DiiXfmMpNWtrHYq6lFd2TS06MZ3XhOXWogse6sFAAAACXBIWXMAAA7EAAAOxAGVKw4bAAAAPHRFWHRTb2Z0d2FyZQBDcmVhdGVkIHdpdGggdGhlIFdvbGZyYW0gTGFuZ3VhZ2UgOiB3d3cud29sZnJhbS5jb21coqaFAAAAIXRFWHRDcmVhdGlvbiBUaW1lADIwMjI6MTI6MDggMTc6MTM6MzgPFXiQAAACe0lEQVRIie2WPUhqYRjHn3PxoGKTJpoGLkpHElQIcQmHoMGP0KYWRcLFalMcBMGgSYSGpKUlaIzKRUU0cIgTeBAsUQkrwcEpgnOQPODHucPhHqPCe+MqLf6n5/0/z/P+3g94eRGGYeCH9OunwDP2GPl8PuSPfD7fhNn5fJ6bXSQSabXaaDRKURRbEYlECIIgCEKn000QDAA8Ljo/P19cXKQoqlQqxWKxm5ubfD4PACqVSqVSAYBIJJoW22AwqNVqAFhfX1coFF6v9/HxkXWmpK/v22AwAEC73f5rfyKR4PF4751gMIhhGDfs9/v7+/sYhgmFQrlc7na7y+XyOPbDwwMAKBSKf9vAOB0cHBweHobDYRzHT05OUBSNRqNsarTkwWDQ7/dJksRxPBAIWK3WiRx4sVg0mUwejwcAjEajw+HgUqN9YxiGouj8/LzL5VpbWzs7O/t/MADs7u4WCoXNzc1UKkXT9PvUiH11dUUQRL1e73Q6p6enYrF4ImybzVatVpVKpd/vl0qlW1tb9/f3H9k6nW5lZQXDMIFA8OUsCIJ8NlEUZRhmOByOwWs0mqOjo1ardX19TZKk2Wyu1WrwrTdVIpG8vLx8MBcWFobDYavVYoe9Xq9YLL4vaDabXGwymS4vL2maxnH8e2yLxZLJZI6Pj7PZbDweZ83V1dW5ublQKPT8/FypVJxOZ6/X41peX1/1er3dbk8mk3d3dziO7+zsCIVCi8UCAMAwTC6XA4BGo8GM1dvb2/b2tlgslkgkGxsb3W6X9dPp9PLyskAg0Ov16XT64uJiaWmJ63p6etrb21Or1Xw+XyaTWa3W29tbNoXM/g4z9ow9Vf0GjAcev7OENfgAAAAASUVORK5CYII=\"></div>"
      ],
      "text/plain": [
       "Plus"
      ]
     },
     "execution_count": 66,
     "metadata": {
      "text/html": [],
      "text/plain": []
     },
     "output_type": "execute_result"
    }
   ],
   "source": [
    "Clear[x]; Head[x+3]"
   ]
  },
  {
   "cell_type": "markdown",
   "id": "8532523b",
   "metadata": {},
   "source": [
    "Antes de dar una nueva definición de factorial, borramos la anterior."
   ]
  },
  {
   "cell_type": "code",
   "execution_count": 67,
   "id": "36959bb8",
   "metadata": {},
   "outputs": [],
   "source": [
    "Clear[fac]"
   ]
  },
  {
   "cell_type": "code",
   "execution_count": 68,
   "id": "abc82563",
   "metadata": {},
   "outputs": [],
   "source": [
    "fac[n_Integer]:=n fac[n-1];fac[0]:=1"
   ]
  },
  {
   "cell_type": "code",
   "execution_count": 69,
   "id": "45430085",
   "metadata": {},
   "outputs": [
    {
     "data": {
      "text/html": [
       "<div><pre style=\"&#102;&#111;&#110;&#116;&#45;&#102;&#97;&#109;&#105;&#108;&#121;&#58;&#32;&#34;&#67;&#111;&#117;&#114;&#105;&#101;&#114;&#32;&#78;&#101;&#119;&#34;&#44;&#67;&#111;&#117;&#114;&#105;&#101;&#114;&#44;&#109;&#111;&#110;&#111;&#115;&#112;&#97;&#99;&#101;&#59;\">&#49;&#48;&#51;&#51;&#51;&#49;&#52;&#55;&#57;&#54;&#54;&#51;&#56;&#54;&#49;&#52;&#52;&#57;&#50;&#57;&#54;&#54;&#54;&#54;&#53;&#49;&#51;&#51;&#55;&#53;&#50;&#51;&#50;&#48;&#48;&#48;&#48;&#48;&#48;&#48;&#48;</pre></div>"
      ],
      "text/plain": [
       "10333147966386144929666651337523200000000"
      ]
     },
     "execution_count": 69,
     "metadata": {
      "text/html": [],
      "text/plain": []
     },
     "output_type": "execute_result"
    }
   ],
   "source": [
    "fac[35]"
   ]
  },
  {
   "cell_type": "code",
   "execution_count": 70,
   "id": "d7a3b9f9",
   "metadata": {},
   "outputs": [
    {
     "data": {
      "text/html": [
       "<div><img alt=\"Output\" src=\"data:image/png;base64,iVBORw0KGgoAAAANSUhEUgAAAFIAAAAYCAIAAADmjT3GAAAA0XpUWHRSYXcgcHJvZmlsZSB0eXBlIGV4aWYAAHjabU9bjgMhDPvnFHuEvHDgOExLpb3BHn+TgbaaqpZIjBMHUubf76P8JISpWPWGDlDAunUZQRotrMzUz3iiyq7xVS+8TTxCqu8C5taPq+5YWdrHINovaL4QXG0b9iCVpfNY92P3y2jtOmiTJ0Cvr3+9m7qggt0impA7evBWgkZCrF4dD9yAaGTchewWecI9bPDs0JHGhEy/ds8CDeGeK2ge0aF8RtIWVlY/FYso2uXQ1LKa6/wDDcpahbVor7gAAAAJcEhZcwAADsQAAA7EAZUrDhsAAAA8dEVYdFNvZnR3YXJlAENyZWF0ZWQgd2l0aCB0aGUgV29sZnJhbSBMYW5ndWFnZSA6IHd3dy53b2xmcmFtLmNvbVyipoUAAAAhdEVYdENyZWF0aW9uIFRpbWUAMjAyMjoxMjowOCAxNzoxNDoyOfzeQf4AAAPLSURBVFiF7ZhNSCpRFMevVsQM6UKyLOmDKAmFgj7wY1aWKzdC1CoolIGKFhK0lswWUuDCJKhlCEZUWGC2KEuaENGkMtqkJhXkohZZYWI6bzE836S9Gnv2Wthvde89595z/t6vudJwHAeFB/27E/gefmQXEq9kJ5NJvV7P4/EgCKqvr5+amvqutL4cnITJZCopKZmZmdnf319bW1tZWcG/nrOzM6PRKBAIKisrc+1rtVqFQiEEQWw2e2xs7OHhgWLHV7IlEsnAwECusSkyMjKiVqvVanUikSC3y+VyLpfLZDJzla3X60tLSycmJhwOx8LCQlVVlUKhIDvE43Ei4ujoaEbfV7JramomJydzik2d/v7+d6w6nS5X2V6vF8OwdNVmswEAwuEwldB0AMDe3h6NRqPRaFdXVxqNhiiXlZWlN8LJyQmKonV1dTAMt7a2rq6uZuwUj8ejUChYLBYEQWKx2Ol0/oft2d7ejiBIutrZ2QkACAaDVPrSAQBtbW0ul8vlcrHZ7KGhIaK8u7tLeNzd3YlEosfHR4PBsLy8zOfze3t73W53egibzYYgyO3trcFg2NjYEIvFfX190Wg0nxIpcH5+DgBoaGig5E2eei6Xq9PpshfJzc1NupxKpZqbm1EUJarPz88cDkcmkyWTybRPNBqlstLIfGKRZ9DT0yOTyd40ZYcupvLTcDgcAEAgEDg6OgqFQjiOh0IhwnRwcBCJRMxmM53+5y5kMBi5ztU/YrFYNjc3Dw8PKfpT+lwxm808Hg9BkKWlpWg0ymQy4/E4YYpEIgCApqamz6WbF9xuN4qic3NzfD6fYpePZ3t9fX1wcHB+fl6pVBYVFQEArq+vA4EAYa2oqAAAhMPh2traz6b9MS8vL8XFb6fq9/vlcvn4+LhSqaQ+4MezvbOzIxAIUBQlNAMAnp6e0laJRMJisaanp3HSS45YAvnC5/OVl5e3tLTEYrEMk9/v7+rqUqlUWq02pzE/lt3R0REIBJxOJ47jwWBQpVLZ7fa0FYbh2dlZu90ulUoXFxe3t7e1Wm1jY6PX66US/uLiAsMwDMMuLy8TiQRRPj09JftsbW3d39/7/f6Mdp/PJ5VKBQKBQqHAfuPxeCjpJp9vb57kqVRKo9FUV1fDMCwUCi0Wi9FoRBCE7ONwOGQyGYPBgCAIQRCr1UrlOMVxXK1WZ6fU3d1N9jk+PuZwOCKRKBaLkdulUml2Xy6XSyU0yHb6It6/wP5z6AJ9eFK6t/MCDMPDw8MAAJPJ9LdjOb8QTxEAAPlDm4CG//yXVjj8yC4kfgEFBP1BCrKhjgAAAABJRU5ErkJggg==\"></div>"
      ],
      "text/plain": [
       "fac[1.2]"
      ]
     },
     "execution_count": 70,
     "metadata": {
      "text/html": [],
      "text/plain": []
     },
     "output_type": "execute_result"
    }
   ],
   "source": [
    "fac[1.2]"
   ]
  },
  {
   "cell_type": "markdown",
   "id": "7c5c5906",
   "metadata": {},
   "source": [
    "Otra restricción buena es hacer que sólo trabaje con enteros que sean positivos. Para ello introducimos una forma de condicional que se obtiene usando el operador `/;`, el cual se pone detrás del cuerpo de definición de la función y se puede leer como \"siempre que\" o \"para\" ."
   ]
  },
  {
   "cell_type": "code",
   "execution_count": 71,
   "id": "3460f935",
   "metadata": {},
   "outputs": [],
   "source": [
    "Clear[fac]"
   ]
  },
  {
   "cell_type": "code",
   "execution_count": 72,
   "id": "b2b2b302",
   "metadata": {},
   "outputs": [],
   "source": [
    "fac[n_Integer]:=n fac[n-1]/;n>0"
   ]
  },
  {
   "cell_type": "code",
   "execution_count": 73,
   "id": "6cab741c",
   "metadata": {},
   "outputs": [],
   "source": [
    "fac[0]:=1"
   ]
  },
  {
   "cell_type": "code",
   "execution_count": 74,
   "id": "c66a495a",
   "metadata": {},
   "outputs": [
    {
     "data": {
      "text/html": [
       "<div><pre style=\"&#102;&#111;&#110;&#116;&#45;&#102;&#97;&#109;&#105;&#108;&#121;&#58;&#32;&#34;&#67;&#111;&#117;&#114;&#105;&#101;&#114;&#32;&#78;&#101;&#119;&#34;&#44;&#67;&#111;&#117;&#114;&#105;&#101;&#114;&#44;&#109;&#111;&#110;&#111;&#115;&#112;&#97;&#99;&#101;&#59;\">&#51;&#54;&#50;&#56;&#56;&#48;&#48;</pre></div>"
      ],
      "text/plain": [
       "3628800"
      ]
     },
     "execution_count": 74,
     "metadata": {
      "text/html": [],
      "text/plain": []
     },
     "output_type": "execute_result"
    }
   ],
   "source": [
    "fac[10]"
   ]
  },
  {
   "cell_type": "code",
   "execution_count": 75,
   "id": "871c2cc1",
   "metadata": {},
   "outputs": [
    {
     "data": {
      "text/html": [
       "<div><img alt=\"Output\" src=\"data:image/png;base64,iVBORw0KGgoAAAANSUhEUgAAAEkAAAAYCAIAAAA5w0fZAAAA0XpUWHRSYXcgcHJvZmlsZSB0eXBlIGV4aWYAAHjabU9bjgMhDPvnFHuEvHDgOExLpb3BHn+TgbaaqpZIjGNnhjL/fh/lJyFMxao3dIAC1q3LCNJoYXWmflZanj3jq154h3iEVN8DzK0fV92xurSPRSSLaH4huNoO7EUqS+ex7sf2y2jtumiTJ0CvX/96N3VBBbtFNSF39OCtBI2GKlQdD9yAMDLuQnaLPuEeMXg6dGQwIdOv7lmgIdzzCZpHdCiflbRFlNVPpUY1ZTk0tZzmc/4BFllahsKmHJ0AAAAJcEhZcwAADsQAAA7EAZUrDhsAAAA8dEVYdFNvZnR3YXJlAENyZWF0ZWQgd2l0aCB0aGUgV29sZnJhbSBMYW5ndWFnZSA6IHd3dy53b2xmcmFtLmNvbVyipoUAAAAhdEVYdENyZWF0aW9uIFRpbWUAMjAyMjoxMjowOCAxNzoxNTo0MRzjCS8AAAMOSURBVFiF7Zg9SOtQFIBP2mpJsA4FpShWB1tKHQQRNAYHobtLM4iDKAHFxUU6FvwZxJYOGhBXKSr+4Q+lS6uWPgmigzinpaBgBkUIFqyY3jfkvRh/sEm1r0/xm07uuTk5556bc0+CIYTgm2IotwMl5Ce2r8mz2CRJmpmZcTqdOI43NTVNT0+Xy63PAalgWbaioiIQCCSTya2trY2NDfQfkM1m9/b2GIYxm80LCwvabzSp41xeXu7r6xsfHy/FIo6OjlZWVgJAMBg0mUwF5ytwHDcyMgIAuVzutfbh4cHn8wHA4+Mjy7LPdOpAGxoaJicnP3vd/9Df3/9BC0aj8Z28vbZvAIDDw0MMwzAMu7i48Pv9slxVVaXEf35+zjBMY2MjQRCtra2bm5svFu/k5KS3t9dqteI4TpJkIpHQnpbSYQCAtrY2juM4jqupqRkeHpblg4MDecbNzU1nZ+fd3V0oFFpbW3O73V6v9/j4WDERiUQoirq+vg6FQru7uyRJ0jQtimJ5AlKjTmJ9ff3U1NTrdF9dXSlyPp93uVwMw8iX9/f3NpvN4/FIkqTMEUVRy57Ri949qemdttlsAMDz/NnZWTqdRgil02lZdXR0JAhCOBw2GJ6OE4vFUoo06EXT2R0Oh51OJ0VRq6uroihWV1crJUsQBABwOBwl9LFYCudtZ2dnYGBgcXFxcHDQaDQCwOXlJc/zsra2thYAMpmM3W4v4vHr6+uRSOTFoM/nc7vdRVh7QeHY4vF4S0sLwzDKSDabVeSuri6r1To7O9vd3Y1hmDwoCIK8jQtC0zRN0zp91krhPdne3s7zfCKRQAilUqmhoaFoNKpoCYKYn5+PRqM9PT1LS0uxWGxiYqK5ufn09PRT/JMk6ddfACCVSsmypjqsLixv1sl8Pu/3++vq6giC6OjoWFlZmZuboyhKPWd/f9/j8VgsFhzHKYra3t7WUse0cHt7+6bbyWSyoH1A/4qPnwF67X/nbxwdPesHIQhCbnlZltXVK79PLpcbGxsDAHWTKIOhn/8lX5Gf2L4mvwHt8rR28/u36QAAAABJRU5ErkJggg==\"></div>"
      ],
      "text/plain": [
       "fac[-1]"
      ]
     },
     "execution_count": 75,
     "metadata": {
      "text/html": [],
      "text/plain": []
     },
     "output_type": "execute_result"
    }
   ],
   "source": [
    "fac[-1]"
   ]
  },
  {
   "cell_type": "markdown",
   "id": "11a36eee",
   "metadata": {},
   "source": [
    "Una forma \"clásica\" de definir el factorial (quizás más acorde con lo que estais acostumbrados) podría ser:"
   ]
  },
  {
   "cell_type": "code",
   "execution_count": 77,
   "id": "07f6311f",
   "metadata": {},
   "outputs": [],
   "source": [
    "Clear[f]\n",
    "f[n_Integer]:=If[n>=0,If[n==0,1,n f[n-1]],Print[\"Indefinido\"]]"
   ]
  },
  {
   "cell_type": "markdown",
   "id": "628dcd85",
   "metadata": {},
   "source": [
    "## Substituciones con reglas\n",
    "\n",
    "Supongamos que queremos substituir `y` por un valor determinado en la fórmula `Sqrt[x^2 + y^2]`. Una forma de hacerlo es la siguiente. Si por ejemplo el valor que queremos para `y` es 7, hacemos"
   ]
  },
  {
   "cell_type": "code",
   "execution_count": 79,
   "id": "0a8612a4",
   "metadata": {},
   "outputs": [
    {
     "data": {
      "text/html": [
       "<div><img alt=\"Output\" src=\"data:image/png;base64,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\"></div>"
      ],
      "text/plain": [
       "           2\n",
       "Sqrt[49 + x ]"
      ]
     },
     "execution_count": 80,
     "metadata": {
      "text/html": [],
      "text/plain": []
     },
     "output_type": "execute_result"
    }
   ],
   "source": [
    "y=7;\n",
    "Sqrt[x^2+y^2]"
   ]
  },
  {
   "cell_type": "markdown",
   "id": "0b94e827",
   "metadata": {},
   "source": [
    "El problema claro está, es que de esta forma, todas las expresiones que contengan a la variable `y`se verán afectadas por esta asignación hasta que liberemos el valor. Por ejemplo, al intentar resolver una ecuación respecto de `y`, `WolframScript` substituye el valor 7 en `y`, obteniendo un resultado posiblemente no deseado."
   ]
  },
  {
   "cell_type": "code",
   "execution_count": 81,
   "id": "f5b46607",
   "metadata": {},
   "outputs": [
    {
     "ename": "Solve::ivar",
     "evalue": "7 is not a valid variable.",
     "output_type": "error",
     "traceback": [
      "\u001b[0;31mSolve::ivar: 7 is not a valid variable.\u001b[0m"
     ]
    },
    {
     "data": {
      "text/html": [
       "<div><img alt=\"Output\" src=\"data:image/png;base64,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\"></div>"
      ],
      "text/plain": [
       "                   10\n",
       "Solve[282475249 + x   == 1, 7]"
      ]
     },
     "execution_count": 81,
     "metadata": {
      "text/html": [],
      "text/plain": []
     },
     "output_type": "execute_result"
    }
   ],
   "source": [
    "Solve[y^10+x^10==1,y]"
   ]
  },
  {
   "cell_type": "code",
   "execution_count": 82,
   "id": "fc3952bf",
   "metadata": {},
   "outputs": [],
   "source": [
    "Clear[y]"
   ]
  },
  {
   "cell_type": "code",
   "execution_count": 83,
   "id": "4b57dc37",
   "metadata": {},
   "outputs": [
    {
     "data": {
      "text/html": [
       "<div><img alt=\"Output\" src=\"data:image/png;base64,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\"></div>"
      ],
      "text/plain": [
       "              10 1/10               10 1/10               1/5       10 1/10\n",
       "{{y -> -(1 - x  )    }, {y -> (1 - x  )    }, {y -> -((-1)    (1 - x  )    )}, \n",
       " \n",
       "              1/5       10 1/10               2/5       10 1/10\n",
       ">   {y -> (-1)    (1 - x  )    }, {y -> -((-1)    (1 - x  )    )}, \n",
       " \n",
       "              2/5       10 1/10               3/5       10 1/10\n",
       ">   {y -> (-1)    (1 - x  )    }, {y -> -((-1)    (1 - x  )    )}, \n",
       " \n",
       "              3/5       10 1/10               4/5       10 1/10\n",
       ">   {y -> (-1)    (1 - x  )    }, {y -> -((-1)    (1 - x  )    )}, \n",
       " \n",
       "              4/5       10 1/10\n",
       ">   {y -> (-1)    (1 - x  )    }}"
      ]
     },
     "execution_count": 83,
     "metadata": {
      "text/html": [],
      "text/plain": []
     },
     "output_type": "execute_result"
    }
   ],
   "source": [
    "Solve[y^10+x^10==1,y]"
   ]
  },
  {
   "cell_type": "markdown",
   "id": "3f0a8df6",
   "metadata": {},
   "source": [
    "Para hacer esto un poco mejor, lo que se usa normalmente son las reglas de substitución. Esto se hace mediante los operadores  `/.` y `->`. Las expresiones de la forma `cambiaesto -> porestootro` se llaman reglas. Mathematica lleva a cabo la substitución o conjunto de substituciones descritas por las reglas que se colocan detras de  `/.`.  En general, la sintaxis es  expresión `/. cambiaesto -> porestootro`."
   ]
  },
  {
   "cell_type": "code",
   "execution_count": 84,
   "id": "6b56422b",
   "metadata": {},
   "outputs": [
    {
     "data": {
      "text/html": [
       "<div><img alt=\"Output\" src=\"data:image/png;base64,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\"></div>"
      ],
      "text/plain": [
       "           2\n",
       "Sqrt[49 + x ]"
      ]
     },
     "execution_count": 84,
     "metadata": {
      "text/html": [],
      "text/plain": []
     },
     "output_type": "execute_result"
    }
   ],
   "source": [
    "Sqrt[x^2 + y^2] /. y -> 7"
   ]
  },
  {
   "cell_type": "code",
   "execution_count": 85,
   "id": "8c783b13",
   "metadata": {},
   "outputs": [
    {
     "data": {
      "text/html": [
       "<div><pre style=\"&#102;&#111;&#110;&#116;&#45;&#102;&#97;&#109;&#105;&#108;&#121;&#58;&#32;&#34;&#67;&#111;&#117;&#114;&#105;&#101;&#114;&#32;&#78;&#101;&#119;&#34;&#44;&#67;&#111;&#117;&#114;&#105;&#101;&#114;&#44;&#109;&#111;&#110;&#111;&#115;&#112;&#97;&#99;&#101;&#59;\">&#121;</pre></div>"
      ],
      "text/plain": [
       "y"
      ]
     },
     "execution_count": 85,
     "metadata": {
      "text/html": [],
      "text/plain": []
     },
     "output_type": "execute_result"
    }
   ],
   "source": [
    "y"
   ]
  },
  {
   "cell_type": "markdown",
   "id": "bb5a35f6",
   "metadata": {},
   "source": [
    "Se pueden hacer otro tipo de substituciones, como por ejemplo"
   ]
  },
  {
   "cell_type": "code",
   "execution_count": 86,
   "id": "9c5d8a0b",
   "metadata": {},
   "outputs": [
    {
     "data": {
      "text/html": [
       "<div><img alt=\"Output\" src=\"data:image/png;base64,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\"></div>"
      ],
      "text/plain": [
       "            2    2\n",
       "Sqrt[(1 + a)  + x ]"
      ]
     },
     "execution_count": 86,
     "metadata": {
      "text/html": [],
      "text/plain": []
     },
     "output_type": "execute_result"
    }
   ],
   "source": [
    "Sqrt[x^2 + y^2] /. y -> 1 + a"
   ]
  },
  {
   "cell_type": "markdown",
   "id": "5e6382b0",
   "metadata": {},
   "source": [
    "O incluso"
   ]
  },
  {
   "cell_type": "code",
   "execution_count": 87,
   "id": "4d038da7",
   "metadata": {},
   "outputs": [
    {
     "data": {
      "text/html": [
       "<style>\n",
       "\t\t\t\t\t\t\t\t\t\t\t\t\t.grid-container {\n",
       "\t\t\t\t\t\t\t\t\t\t\t\t\t\tdisplay: inline-grid;\n",
       "\t\t\t\t\t\t\t\t\t\t\t\t\t\tgrid-template-columns: auto;\n",
       "\t\t\t\t\t\t\t\t\t\t\t\t\t}\n",
       "\t\t\t\t\t\t\t\t\t\t\t\t</style>\n",
       "\n",
       "\t\t\t\t\t\t\t\t\t\t\t\t<div><div class=\"grid-container\"><div class=\"grid-item\"><img alt=\"Output\" src=\"data:image/png;base64,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\"></div><div class=\"grid-item\"><img alt=\"Output\" src=\"data:image/png;base64,iVBORw0KGgoAAAANSUhEUgAAAAsAAAAYCAIAAACjjJBEAAAAz3pUWHRSYXcgcHJvZmlsZSB0eXBlIGV4aWYAAHjabU9bDsMgDPvnFDtCHuDAcehKpd1gx19S2KZOs9TYuHEIaTwfR7oFhCnlYhUNIEduuUl3UWliMlM768S2mK9+4hXi7lb5/sBY/nb1DZOl/gwimULjBteaV2ANUpk+97XQ6pde63XQe+UF0Gf1v+esJihgy16zkBma65pcOqEIFcOBO+CNjF0o350HzDwGiw7tEQzIsGv3SFA39niCxifalc9KWj3Kaq7FOSrJpnRq0njOC0xeWqVNqu3zAAAACXBIWXMAAA7EAAAOxAGVKw4bAAAAPHRFWHRTb2Z0d2FyZQBDcmVhdGVkIHdpdGggdGhlIFdvbGZyYW0gTGFuZ3VhZ2UgOiB3d3cud29sZnJhbS5jb21coqaFAAAAIXRFWHRDcmVhdGlvbiBUaW1lADIwMjI6MTI6MDggMTc6MjE6MjD1fHO4AAABI0lEQVQokdWSMYqDUBRFVYJFSCHCL0IgghDE/3ELks4FmDpia2kV+0BAyApsbLQTLFzAr9TKFdhIqmApaRR8U0yiDMykmGaY297Du6d4LAAwb8O9r/+AoJTu9/vlcimK4vF4vN/vzwIAACDLssVicTgc0jQNw1DXdcdxPisGAPq+32w2lmXBK+M49n0/E1mWsSzbNA18F45hmDzPMcbb7fZH09vtttvtyrI0DEMURYzx+XwehmE2NU1TkiRN0+I4rqoqCAJBEDzPmz1s21ZVteu6aft6vSKEZg9CyDAMq9Vq2lYUpW3bx+PxXKnrmuM4Sul043Q6rdfreQUAXNdFCAVBUBTF5XLheT6Koi/EOI6+78uyzPM8ISRJkuke+w8/6PfEB7vy4pkCvhY2AAAAAElFTkSuQmCC\"></div></div></div>"
      ],
      "text/plain": [
       "List[1, 2, 3]\n",
       "6"
      ]
     },
     "execution_count": 87,
     "metadata": {
      "text/html": [],
      "text/plain": []
     },
     "output_type": "execute_result"
    }
   ],
   "source": [
    "FullForm[{1,2,3}]\n",
    "{1,2,3} /. List -> Plus"
   ]
  },
  {
   "cell_type": "markdown",
   "id": "718d0f15",
   "metadata": {},
   "source": [
    "Podemos también hacer varias substituciones a la vez pasando todas las reglas como una lista."
   ]
  },
  {
   "cell_type": "code",
   "execution_count": 89,
   "id": "24f35e16",
   "metadata": {},
   "outputs": [
    {
     "data": {
      "text/html": [
       "<div><img alt=\"Output\" src=\"data:image/png;base64,iVBORw0KGgoAAAANSUhEUgAAAFMAAAAYCAIAAAAJT1b4AAAAz3pUWHRSYXcgcHJvZmlsZSB0eXBlIGV4aWYAAHjabU9bjgMhDPvnFHuEvHDgOExLpb3BHn+TgbaaqpZIHCcOUObf76P8JISpWPWGDlDAunUZQRotrMzUz3ii6u7xVS+8TTxCqu8G5taPq+5YWdrHIpJFNG8IrrYNe5HK0nms+tjzMlq7LtrkCdDr6V9rUxdUsFtEE3JHD95K0EioQtXxwA2IQcZdyG6RJ9zDBs8JHWlMyPTr9CzQEO75Bc0jOpTPSNrCyurBZSsmh6aWPL/zDw67Wn78HyPHAAAACXBIWXMAAA7EAAAOxAGVKw4bAAAAPHRFWHRTb2Z0d2FyZQBDcmVhdGVkIHdpdGggdGhlIFdvbGZyYW0gTGFuZ3VhZ2UgOiB3d3cud29sZnJhbS5jb21coqaFAAAAIXRFWHRDcmVhdGlvbiBUaW1lADIwMjI6MTI6MDggMTc6MjI6MDTSknrNAAAEOElEQVRYhe2YTUg6WxTARxmtzBBdtKqF9mFl6qZFtSgQIvogKiIiv/ogqLCFtCiyaBFh9EkYEggiUUQLU1CItmEqJBhNwvxBCjehZGkaoknet5jevF48zb8x9KD/b3XvPeeec+6dc8/cGRIAAPqRkL87gG/je1YeCoXEYrFQKKytrdVoNIT6isfjKpWKy+UKhcKWlhafz/cmAN+ByWSyWCwAgGg0Wl1dfXV1RZyvRCJhMplSqRQAQK1Wy2QybBwmdL/T0d3djTXodHpdXZ3X6+Xz+QT5olKpmLtoNOrxeAQCwZuAuM3OhufnZy6XGwwGiXY0MDCQl5c3OjqKPXwAAAkQXNutVqvRaCwoKIhEIo2NjZOTk7gIACCVSpubm8fGxgiNASMSiahUKgDAzs7Om3visNlsCwsL+DaLxWKfz4dLFQrFzMwMoQF8IBgMslgsrE3sOddqtQaDgUQiYV0mk4m1U6nU+Pg4k8lcWVn5oot4PG61WkUiEYvF+iBCUfTu7g6G4ZubG7lcTiKRjEYjXlDeVn5+fr67u1tYWBgOh1tbW4eHh+12+9PTU1tbW84xhUIhGo1GoVCwrsVigWG4tLQUgqDFxUW9Xl9bW3t6egpBkEAg2Nvby80LhUKBYVipVLLZ7Pn5eRh+W9HFxcXq6qperwcAHBwcrK2tkcnkkpISg8HwNhMAYLfbR0ZGXl5esDSQy+WXl5dSqTQSiaRLGwRBjo6OMqeWxWLR6XQAgNnZWYFAMDQ09Pr6mluWLiwsfKpjNpulUmkymQQAoCja398fj8cz6EMAAJFIFA6H8SG3293T07O0tJRhmsPh0Gg0mUNRqVQIguDd/f19iUSCn/nfQiwWZ6NmNBrVavXj42NXV1c0Gs2sTPZ6vRwOh8Fg4PnD4/HOzs6mpqZyzPK/8Xg8NTU1eFcsFnM4nJOTky+azUBvby+KoiMjI+vr63Q6PbMy7PV6y8vL3w8dHx9XVVW93wscBEE2NjYgCLq/v394eHC5XBAEdXV19fb2ftBMpVIkEolM/tftuKGhAUGQ9vb2bJaRTCbxt53D4RgaGoIgqLKycm5uLsMsNpsdi8UqKio+tQ/TaLT3fb/fr9PpiouL/1Obz+djFcLpdLpcLoVCkc7u9fX1+weOgaJoWVnZpzFhUCgUvBpJJJJ/KlN6/H6/z+eLxWLZ2CcLhUKbzZZKpSAICgQCMplse3ubSqVmGV86nE5nfX29x+NJJBLYyK9fv8xmc0dHxxctZ0Cr1U5PT+fn52ejDDMYjImJicHBQTqdHo/HNzc3eTxeU1NTX1+fRCLBL9i/i9PpXF1ddbvdy8vLRUVFWFE5PDzMy8vLzWA23N7e8ni8D0csLTlU2mzo7OwkyHIGZDJZIBBQKpXZKBNyhwuFQkwmkwjLmUkkEgqFYmtrKxtlwr9Y/rf8+Rv18/iz8p/HX/SdqEVmJMM/AAAAAElFTkSuQmCC\"></div>"
      ],
      "text/plain": [
       "     2    3\n",
       "α + β  + γ"
      ]
     },
     "execution_count": 89,
     "metadata": {
      "text/html": [],
      "text/plain": []
     },
     "output_type": "execute_result"
    }
   ],
   "source": [
    "a+b^2+c^3 /. {a->\\[Alpha], b->\\[Beta], c->\\[Gamma]}"
   ]
  },
  {
   "cell_type": "markdown",
   "id": "3a227f53",
   "metadata": {},
   "source": [
    "O bien distintos conjuntos de substituciones... pasando una lista de lista de reglas."
   ]
  },
  {
   "cell_type": "code",
   "execution_count": 90,
   "id": "0924b8d4",
   "metadata": {},
   "outputs": [
    {
     "data": {
      "text/html": [
       "<div><img alt=\"Output\" src=\"data:image/png;base64,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\"></div>"
      ],
      "text/plain": [
       "{5, 13, Sqrt[2]}"
      ]
     },
     "execution_count": 90,
     "metadata": {
      "text/html": [],
      "text/plain": []
     },
     "output_type": "execute_result"
    }
   ],
   "source": [
    "Sqrt[x^2 + y^2] /. {{x->3, y->4}, {x->5, y->12}, {x->1, y->1}}"
   ]
  },
  {
   "cell_type": "markdown",
   "id": "ac642a4f",
   "metadata": {},
   "source": [
    "Ojo con hacer lo siguiente (los comentarios van entre `(*` y `*)`), el símbolo `//` se usa para otro propósito como veremos después."
   ]
  },
  {
   "cell_type": "code",
   "execution_count": 91,
   "id": "0230ff4b",
   "metadata": {},
   "outputs": [
    {
     "data": {
      "text/html": [
       "<div><pre style=\"&#102;&#111;&#110;&#116;&#45;&#102;&#97;&#109;&#105;&#108;&#121;&#58;&#32;&#34;&#67;&#111;&#117;&#114;&#105;&#101;&#114;&#32;&#78;&#101;&#119;&#34;&#44;&#67;&#111;&#117;&#114;&#105;&#101;&#114;&#44;&#109;&#111;&#110;&#111;&#115;&#112;&#97;&#99;&#101;&#59;\">&#45;&#49;&#46;&#52;&#56;&#48;&#54;&#49;</pre></div>"
      ],
      "text/plain": [
       "-1.48061"
      ]
     },
     "execution_count": 91,
     "metadata": {
      "text/html": [],
      "text/plain": []
     },
     "output_type": "execute_result"
    }
   ],
   "source": [
    "Log[(1-x) x] /. {x->0.35, x->0.55} (* incorrecto *)"
   ]
  },
  {
   "cell_type": "markdown",
   "id": "7511a278",
   "metadata": {},
   "source": [
    "Mathematica hace las substituciones de izquierda a derecha, por lo que al hacer la primera, para la segunda no queda variable que substituir."
   ]
  },
  {
   "cell_type": "code",
   "execution_count": 92,
   "id": "cb145919",
   "metadata": {},
   "outputs": [
    {
     "data": {
      "text/html": [
       "<div><pre style=\"&#102;&#111;&#110;&#116;&#45;&#102;&#97;&#109;&#105;&#108;&#121;&#58;&#32;&#34;&#67;&#111;&#117;&#114;&#105;&#101;&#114;&#32;&#78;&#101;&#119;&#34;&#44;&#67;&#111;&#117;&#114;&#105;&#101;&#114;&#44;&#109;&#111;&#110;&#111;&#115;&#112;&#97;&#99;&#101;&#59;\">&#123;&#45;&#49;&#46;&#52;&#56;&#48;&#54;&#49;&#44;&#32;&#45;&#49;&#46;&#51;&#57;&#54;&#51;&#52;&#125;</pre></div>"
      ],
      "text/plain": [
       "{-1.48061, -1.39634}"
      ]
     },
     "execution_count": 92,
     "metadata": {
      "text/html": [],
      "text/plain": []
     },
     "output_type": "execute_result"
    }
   ],
   "source": [
    "Log[(1-x) x] /. {{x->0.35}, {x->0.55}} (* correcto *)"
   ]
  },
  {
   "cell_type": "markdown",
   "id": "4b71a0d6",
   "metadata": {},
   "source": [
    "Un ejemplo combinando reglas con la salida de la funcion `Solve`: "
   ]
  },
  {
   "cell_type": "code",
   "execution_count": 93,
   "id": "cbe32d1d",
   "metadata": {},
   "outputs": [
    {
     "data": {
      "text/html": [
       "<style>\n",
       "\t\t\t\t\t\t\t\t\t\t\t\t\t.grid-container {\n",
       "\t\t\t\t\t\t\t\t\t\t\t\t\t\tdisplay: inline-grid;\n",
       "\t\t\t\t\t\t\t\t\t\t\t\t\t\tgrid-template-columns: auto;\n",
       "\t\t\t\t\t\t\t\t\t\t\t\t\t}\n",
       "\t\t\t\t\t\t\t\t\t\t\t\t</style>\n",
       "\n",
       "\t\t\t\t\t\t\t\t\t\t\t\t<div><div class=\"grid-container\"><div class=\"grid-item\"><img alt=\"Output\" src=\"data:image/png;base64,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\"></div><div class=\"grid-item\"><img alt=\"Output\" src=\"data:image/png;base64,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\"></div></div></div>"
      ],
      "text/plain": [
       "{{x -> -1}, {x -> 1}}\n",
       "{True, True}"
      ]
     },
     "execution_count": 93,
     "metadata": {
      "text/html": [],
      "text/plain": []
     },
     "output_type": "execute_result"
    }
   ],
   "source": [
    "solset=Solve[x^2-1==0,x]\n",
    "x^2-1==0/.solset"
   ]
  },
  {
   "cell_type": "markdown",
   "id": "ddc6627d",
   "metadata": {},
   "source": [
    "Para generar una lista con las soluciones escribimos"
   ]
  },
  {
   "cell_type": "code",
   "execution_count": 95,
   "id": "fe8fe70e",
   "metadata": {},
   "outputs": [
    {
     "data": {
      "text/html": [
       "<div><pre style=\"&#102;&#111;&#110;&#116;&#45;&#102;&#97;&#109;&#105;&#108;&#121;&#58;&#32;&#34;&#67;&#111;&#117;&#114;&#105;&#101;&#114;&#32;&#78;&#101;&#119;&#34;&#44;&#67;&#111;&#117;&#114;&#105;&#101;&#114;&#44;&#109;&#111;&#110;&#111;&#115;&#112;&#97;&#99;&#101;&#59;\">&#123;&#45;&#49;&#44;&#32;&#49;&#125;</pre></div>"
      ],
      "text/plain": [
       "{-1, 1}"
      ]
     },
     "execution_count": 95,
     "metadata": {
      "text/html": [],
      "text/plain": []
     },
     "output_type": "execute_result"
    }
   ],
   "source": [
    "x/.solset"
   ]
  },
  {
   "cell_type": "markdown",
   "id": "62828f14",
   "metadata": {},
   "source": [
    "Las versiones prefijas de /. y de -> son ReplaceAll y Rule, respectivamente."
   ]
  },
  {
   "cell_type": "code",
   "execution_count": 96,
   "id": "7effd76d",
   "metadata": {},
   "outputs": [
    {
     "data": {
      "text/html": [
       "<div><pre style=\"&#102;&#111;&#110;&#116;&#45;&#102;&#97;&#109;&#105;&#108;&#121;&#58;&#32;&#34;&#67;&#111;&#117;&#114;&#105;&#101;&#114;&#32;&#78;&#101;&#119;&#34;&#44;&#67;&#111;&#117;&#114;&#105;&#101;&#114;&#44;&#109;&#111;&#110;&#111;&#115;&#112;&#97;&#99;&#101;&#59;\">&#52;</pre></div>"
      ],
      "text/plain": [
       "4"
      ]
     },
     "execution_count": 96,
     "metadata": {
      "text/html": [],
      "text/plain": []
     },
     "output_type": "execute_result"
    }
   ],
   "source": [
    "ReplaceAll[x^2, x->2]"
   ]
  },
  {
   "cell_type": "code",
   "execution_count": 97,
   "id": "02082d10",
   "metadata": {},
   "outputs": [
    {
     "data": {
      "text/html": [
       "<div><pre style=\"&#102;&#111;&#110;&#116;&#45;&#102;&#97;&#109;&#105;&#108;&#121;&#58;&#32;&#34;&#67;&#111;&#117;&#114;&#105;&#101;&#114;&#32;&#78;&#101;&#119;&#34;&#44;&#67;&#111;&#117;&#114;&#105;&#101;&#114;&#44;&#109;&#111;&#110;&#111;&#115;&#112;&#97;&#99;&#101;&#59;\">&#52;</pre></div>"
      ],
      "text/plain": [
       "4"
      ]
     },
     "execution_count": 97,
     "metadata": {
      "text/html": [],
      "text/plain": []
     },
     "output_type": "execute_result"
    }
   ],
   "source": [
    "ReplaceAll[x^2,Rule[x,2]]"
   ]
  },
  {
   "cell_type": "markdown",
   "id": "5fa9a02b",
   "metadata": {},
   "source": [
    "Al igual que ocurría con las asignaciones, el operador `->` tiene su versión \"perezosa\" o retardada. Para que la evaluación de la parte derecha se produzca en el momento de aplicar la regla, utilizamos `:>` en vez de `->` (la evaluación de la parte izquierda se efectua siempre en los dos casos, a diferencia de `:=` y de `=`). Compárese "
   ]
  },
  {
   "cell_type": "code",
   "execution_count": 98,
   "id": "62456925",
   "metadata": {},
   "outputs": [
    {
     "data": {
      "text/html": [
       "<div><pre style=\"&#102;&#111;&#110;&#116;&#45;&#102;&#97;&#109;&#105;&#108;&#121;&#58;&#32;&#34;&#67;&#111;&#117;&#114;&#105;&#101;&#114;&#32;&#78;&#101;&#119;&#34;&#44;&#67;&#111;&#117;&#114;&#105;&#101;&#114;&#44;&#109;&#111;&#110;&#111;&#115;&#112;&#97;&#99;&#101;&#59;\">&#123;&#48;&#46;&#51;&#56;&#52;&#53;&#50;&#55;&#44;&#32;&#48;&#46;&#51;&#56;&#52;&#53;&#50;&#55;&#44;&#32;&#48;&#46;&#51;&#56;&#52;&#53;&#50;&#55;&#44;&#32;&#48;&#46;&#51;&#56;&#52;&#53;&#50;&#55;&#44;&#32;&#48;&#46;&#51;&#56;&#52;&#53;&#50;&#55;&#125;</pre></div>"
      ],
      "text/plain": [
       "{0.384527, 0.384527, 0.384527, 0.384527, 0.384527}"
      ]
     },
     "execution_count": 98,
     "metadata": {
      "text/html": [],
      "text/plain": []
     },
     "output_type": "execute_result"
    }
   ],
   "source": [
    "Table[x,{5}]/. x-> Random[]"
   ]
  },
  {
   "cell_type": "markdown",
   "id": "7f3eaa2f",
   "metadata": {},
   "source": [
    "con"
   ]
  },
  {
   "cell_type": "code",
   "execution_count": 100,
   "id": "1e7e2e1e",
   "metadata": {},
   "outputs": [
    {
     "data": {
      "text/html": [
       "<div><pre style=\"&#102;&#111;&#110;&#116;&#45;&#102;&#97;&#109;&#105;&#108;&#121;&#58;&#32;&#34;&#67;&#111;&#117;&#114;&#105;&#101;&#114;&#32;&#78;&#101;&#119;&#34;&#44;&#67;&#111;&#117;&#114;&#105;&#101;&#114;&#44;&#109;&#111;&#110;&#111;&#115;&#112;&#97;&#99;&#101;&#59;\">&#123;&#48;&#46;&#57;&#51;&#48;&#54;&#52;&#53;&#44;&#32;&#48;&#46;&#53;&#56;&#50;&#48;&#56;&#51;&#44;&#32;&#48;&#46;&#56;&#54;&#51;&#51;&#55;&#55;&#44;&#32;&#48;&#46;&#55;&#55;&#55;&#49;&#49;&#57;&#44;&#32;&#48;&#46;&#49;&#57;&#52;&#56;&#50;&#50;&#125;</pre></div>"
      ],
      "text/plain": [
       "{0.930645, 0.582083, 0.863377, 0.777119, 0.194822}"
      ]
     },
     "execution_count": 100,
     "metadata": {
      "text/html": [],
      "text/plain": []
     },
     "output_type": "execute_result"
    }
   ],
   "source": [
    "Table[x, {5}] /. x:> Random[]"
   ]
  },
  {
   "cell_type": "markdown",
   "id": "8f6abff1",
   "metadata": {},
   "source": [
    "La versión prefija de `:>` es `RuleDelayed`."
   ]
  },
  {
   "cell_type": "markdown",
   "id": "62462367",
   "metadata": {},
   "source": [
    "Si queremos que una regla se aplique tantas veces como sea posible (hasta que no sea aplicable más), entonces en vez del operador `/.` usamos `//.`.\n",
    "\n",
    "Compárese "
   ]
  },
  {
   "cell_type": "code",
   "execution_count": 101,
   "id": "28bcc723",
   "metadata": {},
   "outputs": [
    {
     "data": {
      "text/html": [
       "<div><pre style=\"&#102;&#111;&#110;&#116;&#45;&#102;&#97;&#109;&#105;&#108;&#121;&#58;&#32;&#34;&#67;&#111;&#117;&#114;&#105;&#101;&#114;&#32;&#78;&#101;&#119;&#34;&#44;&#67;&#111;&#117;&#114;&#105;&#101;&#114;&#44;&#109;&#111;&#110;&#111;&#115;&#112;&#97;&#99;&#101;&#59;\">&#123;&#97;&#44;&#32;&#97;&#44;&#32;&#98;&#125;</pre></div>"
      ],
      "text/plain": [
       "{a, a, b}"
      ]
     },
     "execution_count": 101,
     "metadata": {
      "text/html": [],
      "text/plain": []
     },
     "output_type": "execute_result"
    }
   ],
   "source": [
    "{a,b,c} /. {c->b, b->a}"
   ]
  },
  {
   "cell_type": "markdown",
   "id": "9de6ee36",
   "metadata": {},
   "source": [
    "con"
   ]
  },
  {
   "cell_type": "code",
   "execution_count": 102,
   "id": "8468d0b7",
   "metadata": {},
   "outputs": [
    {
     "data": {
      "text/html": [
       "<div><pre style=\"&#102;&#111;&#110;&#116;&#45;&#102;&#97;&#109;&#105;&#108;&#121;&#58;&#32;&#34;&#67;&#111;&#117;&#114;&#105;&#101;&#114;&#32;&#78;&#101;&#119;&#34;&#44;&#67;&#111;&#117;&#114;&#105;&#101;&#114;&#44;&#109;&#111;&#110;&#111;&#115;&#112;&#97;&#99;&#101;&#59;\">&#123;&#97;&#44;&#32;&#97;&#44;&#32;&#97;&#125;</pre></div>"
      ],
      "text/plain": [
       "{a, a, a}"
      ]
     },
     "execution_count": 102,
     "metadata": {
      "text/html": [],
      "text/plain": []
     },
     "output_type": "execute_result"
    }
   ],
   "source": [
    "{a,b,c} //. {c->b, b->a}"
   ]
  },
  {
   "cell_type": "markdown",
   "id": "3b374a97",
   "metadata": {},
   "source": [
    "## Listas y funciones\n",
    "\n",
    "### Listas y algunas funciones que generan listas\n",
    "\n",
    "Las listas en `WolframScript` se introducen encerrando entre llaves los elementos, los cuales vienen separados por comas. Otra forma de introducir listas es con la función `List`. \n",
    "\n",
    "Las listas no tienen por qué ser homogéneas (esto es, los elementos no tienen que ser del mismo tipo)."
   ]
  },
  {
   "cell_type": "code",
   "execution_count": 103,
   "id": "2ff7abe9",
   "metadata": {},
   "outputs": [
    {
     "data": {
      "text/html": [
       "<div><img alt=\"Output\" src=\"data:image/png;base64,iVBORw0KGgoAAAANSUhEUgAAACkAAAAYCAIAAADoJEOpAAAA0XpUWHRSYXcgcHJvZmlsZSB0eXBlIGV4aWYAAHjabU9bjgMhDPvnFHuEvHDgOExLpb3BHn+TgbaaqpZIHCcOUObf76P8JISpWPWGDlDAunUZQRotrMzUz3hC+u7xVS+8TTxCqu8G5taPq+7YC9vHIpJFNG8IrrYNe5HK0nms+tjzMlq7LtrkCdDr6V9rUxdUsFtEE3JHD95K0EioQtXxwA2IQcZdyG6RJ9zDBs8JHWlMyPTr9CzQEO75Bc0jOpTPSNrCyurBVS1i1S6Hppbd/M4/FBFajm7rGUMAAAAJcEhZcwAADsQAAA7EAZUrDhsAAAA8dEVYdFNvZnR3YXJlAENyZWF0ZWQgd2l0aCB0aGUgV29sZnJhbSBMYW5ndWFnZSA6IHd3dy53b2xmcmFtLmNvbVyipoUAAAAhdEVYdENyZWF0aW9uIFRpbWUAMjAyMjoxMjowOCAxNzozNDo1OclfhFkAAAH4SURBVEiJ7ZY/6DlhHMef8z9/c4lkIQoZMFAGK90iuW5iM5hssjKYJRmUGyzOdItyDJRJMSAGZVAsSibDLad7fsOV9P399L1vv5+fxWt73s/z6dXnea5Ph0AIwZuQvEv8cb/HPRwOkSdUKpWXupHL5bJcLoVFtVrd7XbNZlNYulwuu93+Qjl8IJvN+v1++L8Q9d7lcjmVSkEI6/W61+tVKBQoirIsCwBoNBoymezxcKFQ8Hg8j8lsNovFYhqNBkXRTCZzOp2EXOy3dr1e0+k0TdO1Wm29Xne7XbVaLaZwNBpFo1GTydTv9ymKOhwOGIbxPA8AkH1bLDCZTDAMG4/HQpdfOnsGhDCXy2EYRlGUkEQiEYfDQdM0QRBi+1YqlSRJfrneb1mtVvv9Pp/P3xODwRAOhxeLBRDft9FotFgsPxIDAISnxXEcQZB7yLKs1Wr9gfsZcrkcQsjzvETyhys0m80AAJIkQ6HQY67T6f6B22q18jx/PB6FScBx3Hw+v+8Gg0Gn0zkYDAiC+L32b2dqNBrVarXFYnG/3282m2QyyXHcfVcqlbbb7U6ng+N4r9ebTqftdjsej5/PZwDEzZZSqWSz2Z6NCIZhfD6fSqXy+/0Mw9A07Xa7Hw9st9tEIqHX65VKZSAQaLVat9sNQojAz7/Dx/1xv5Jf305rOOEx0CYAAAAASUVORK5CYII=\"></div>"
      ],
      "text/plain": [
       "True"
      ]
     },
     "execution_count": 103,
     "metadata": {
      "text/html": [],
      "text/plain": []
     },
     "output_type": "execute_result"
    }
   ],
   "source": [
    "{1,x,2+y^2,Sin[x],{2}}==List[1,x,2+y^2,Sin[x],{2}]"
   ]
  },
  {
   "cell_type": "markdown",
   "id": "efa9ac7a",
   "metadata": {},
   "source": [
    "La lista vacía se representa por {}."
   ]
  },
  {
   "cell_type": "markdown",
   "id": "61f9c0bf",
   "metadata": {},
   "source": [
    "Mathematica tiene muchas funciones para crear listas. Por ejemplo, la función `Range` genera una lista de números. Tiene diversas formas de ser utilizada, dependiendo del número de argumentos que introduzcamos."
   ]
  },
  {
   "cell_type": "code",
   "execution_count": 104,
   "id": "bfc3ad6c",
   "metadata": {},
   "outputs": [
    {
     "data": {
      "text/html": [
       "<div><pre style=\"&#102;&#111;&#110;&#116;&#45;&#102;&#97;&#109;&#105;&#108;&#121;&#58;&#32;&#34;&#67;&#111;&#117;&#114;&#105;&#101;&#114;&#32;&#78;&#101;&#119;&#34;&#44;&#67;&#111;&#117;&#114;&#105;&#101;&#114;&#44;&#109;&#111;&#110;&#111;&#115;&#112;&#97;&#99;&#101;&#59;\">&#123;&#49;&#44;&#32;&#50;&#44;&#32;&#51;&#44;&#32;&#52;&#44;&#32;&#53;&#44;&#32;&#54;&#44;&#32;&#55;&#44;&#32;&#56;&#44;&#32;&#57;&#44;&#32;&#49;&#48;&#44;&#32;&#49;&#49;&#44;&#32;&#49;&#50;&#44;&#32;&#49;&#51;&#44;&#32;&#49;&#52;&#44;&#32;&#49;&#53;&#125;</pre></div>"
      ],
      "text/plain": [
       "{1, 2, 3, 4, 5, 6, 7, 8, 9, 10, 11, 12, 13, 14, 15}"
      ]
     },
     "execution_count": 104,
     "metadata": {
      "text/html": [],
      "text/plain": []
     },
     "output_type": "execute_result"
    }
   ],
   "source": [
    "Range[15]"
   ]
  },
  {
   "cell_type": "code",
   "execution_count": 105,
   "id": "7d355552",
   "metadata": {},
   "outputs": [
    {
     "data": {
      "text/html": [
       "<div><pre style=\"&#102;&#111;&#110;&#116;&#45;&#102;&#97;&#109;&#105;&#108;&#121;&#58;&#32;&#34;&#67;&#111;&#117;&#114;&#105;&#101;&#114;&#32;&#78;&#101;&#119;&#34;&#44;&#67;&#111;&#117;&#114;&#105;&#101;&#114;&#44;&#109;&#111;&#110;&#111;&#115;&#112;&#97;&#99;&#101;&#59;\">&#123;&#49;&#48;&#44;&#32;&#49;&#49;&#44;&#32;&#49;&#50;&#44;&#32;&#49;&#51;&#44;&#32;&#49;&#52;&#44;&#32;&#49;&#53;&#125;</pre></div>"
      ],
      "text/plain": [
       "{10, 11, 12, 13, 14, 15}"
      ]
     },
     "execution_count": 105,
     "metadata": {
      "text/html": [],
      "text/plain": []
     },
     "output_type": "execute_result"
    }
   ],
   "source": [
    "Range[10,15]"
   ]
  },
  {
   "cell_type": "code",
   "execution_count": 106,
   "id": "a8f4a894",
   "metadata": {},
   "outputs": [
    {
     "data": {
      "text/html": [
       "<div><pre style=\"&#102;&#111;&#110;&#116;&#45;&#102;&#97;&#109;&#105;&#108;&#121;&#58;&#32;&#34;&#67;&#111;&#117;&#114;&#105;&#101;&#114;&#32;&#78;&#101;&#119;&#34;&#44;&#67;&#111;&#117;&#114;&#105;&#101;&#114;&#44;&#109;&#111;&#110;&#111;&#115;&#112;&#97;&#99;&#101;&#59;\">&#123;&#49;&#48;&#44;&#32;&#49;&#50;&#44;&#32;&#49;&#52;&#44;&#32;&#49;&#54;&#44;&#32;&#49;&#56;&#44;&#32;&#50;&#48;&#125;</pre></div>"
      ],
      "text/plain": [
       "{10, 12, 14, 16, 18, 20}"
      ]
     },
     "execution_count": 106,
     "metadata": {
      "text/html": [],
      "text/plain": []
     },
     "output_type": "execute_result"
    }
   ],
   "source": [
    "Range[10,20,2]"
   ]
  },
  {
   "cell_type": "markdown",
   "id": "ae972800",
   "metadata": {},
   "source": [
    "Otra función útil puede ser `Table`, la  cual ya ha aparecido antes."
   ]
  },
  {
   "cell_type": "code",
   "execution_count": 107,
   "id": "da2db1d3",
   "metadata": {},
   "outputs": [
    {
     "data": {
      "text/html": [
       "<div><pre style=\"&#102;&#111;&#110;&#116;&#45;&#102;&#97;&#109;&#105;&#108;&#121;&#58;&#32;&#34;&#67;&#111;&#117;&#114;&#105;&#101;&#114;&#32;&#78;&#101;&#119;&#34;&#44;&#67;&#111;&#117;&#114;&#105;&#101;&#114;&#44;&#109;&#111;&#110;&#111;&#115;&#112;&#97;&#99;&#101;&#59;\">&#123;&#48;&#46;&#54;&#57;&#51;&#49;&#52;&#55;&#44;&#32;&#49;&#46;&#48;&#57;&#56;&#54;&#49;&#44;&#32;&#49;&#46;&#54;&#48;&#57;&#52;&#52;&#44;&#32;&#49;&#46;&#57;&#52;&#53;&#57;&#49;&#44;&#32;&#50;&#46;&#51;&#57;&#55;&#57;&#125;</pre></div>"
      ],
      "text/plain": [
       "{0.693147, 1.09861, 1.60944, 1.94591, 2.3979}"
      ]
     },
     "execution_count": 107,
     "metadata": {
      "text/html": [],
      "text/plain": []
     },
     "output_type": "execute_result"
    }
   ],
   "source": [
    "Table[N[Log[Prime[i]]],{i,1,5}]"
   ]
  },
  {
   "cell_type": "code",
   "execution_count": 108,
   "id": "83a60274",
   "metadata": {},
   "outputs": [
    {
     "data": {
      "text/html": [
       "<div><pre style=\"&#102;&#111;&#110;&#116;&#45;&#102;&#97;&#109;&#105;&#108;&#121;&#58;&#32;&#34;&#67;&#111;&#117;&#114;&#105;&#101;&#114;&#32;&#78;&#101;&#119;&#34;&#44;&#67;&#111;&#117;&#114;&#105;&#101;&#114;&#44;&#109;&#111;&#110;&#111;&#115;&#112;&#97;&#99;&#101;&#59;\">&#123;&#123;&#49;&#49;&#44;&#32;&#49;&#50;&#44;&#32;&#49;&#51;&#44;&#32;&#49;&#52;&#44;&#32;&#49;&#53;&#44;&#32;&#49;&#54;&#44;&#32;&#49;&#55;&#44;&#32;&#49;&#56;&#44;&#32;&#49;&#57;&#44;&#32;&#50;&#48;&#44;&#32;&#50;&#49;&#125;&#44;&#32;&#10;&#32;&#10;&#62;&#32;&#32;&#32;&#123;&#49;&#51;&#44;&#32;&#49;&#52;&#44;&#32;&#49;&#53;&#44;&#32;&#49;&#54;&#44;&#32;&#49;&#55;&#44;&#32;&#49;&#56;&#44;&#32;&#49;&#57;&#44;&#32;&#50;&#48;&#44;&#32;&#50;&#49;&#44;&#32;&#50;&#50;&#44;&#32;&#50;&#51;&#125;&#44;&#32;&#10;&#32;&#10;&#62;&#32;&#32;&#32;&#123;&#49;&#53;&#44;&#32;&#49;&#54;&#44;&#32;&#49;&#55;&#44;&#32;&#49;&#56;&#44;&#32;&#49;&#57;&#44;&#32;&#50;&#48;&#44;&#32;&#50;&#49;&#44;&#32;&#50;&#50;&#44;&#32;&#50;&#51;&#44;&#32;&#50;&#52;&#44;&#32;&#50;&#53;&#125;&#44;&#32;&#10;&#32;&#10;&#62;&#32;&#32;&#32;&#123;&#49;&#55;&#44;&#32;&#49;&#56;&#44;&#32;&#49;&#57;&#44;&#32;&#50;&#48;&#44;&#32;&#50;&#49;&#44;&#32;&#50;&#50;&#44;&#32;&#50;&#51;&#44;&#32;&#50;&#52;&#44;&#32;&#50;&#53;&#44;&#32;&#50;&#54;&#44;&#32;&#50;&#55;&#125;&#44;&#32;&#10;&#32;&#10;&#62;&#32;&#32;&#32;&#123;&#49;&#57;&#44;&#32;&#50;&#48;&#44;&#32;&#50;&#49;&#44;&#32;&#50;&#50;&#44;&#32;&#50;&#51;&#44;&#32;&#50;&#52;&#44;&#32;&#50;&#53;&#44;&#32;&#50;&#54;&#44;&#32;&#50;&#55;&#44;&#32;&#50;&#56;&#44;&#32;&#50;&#57;&#125;&#125;</pre></div>"
      ],
      "text/plain": [
       "{{11, 12, 13, 14, 15, 16, 17, 18, 19, 20, 21}, \n",
       " \n",
       ">   {13, 14, 15, 16, 17, 18, 19, 20, 21, 22, 23}, \n",
       " \n",
       ">   {15, 16, 17, 18, 19, 20, 21, 22, 23, 24, 25}, \n",
       " \n",
       ">   {17, 18, 19, 20, 21, 22, 23, 24, 25, 26, 27}, \n",
       " \n",
       ">   {19, 20, 21, 22, 23, 24, 25, 26, 27, 28, 29}}"
      ]
     },
     "execution_count": 108,
     "metadata": {
      "text/html": [],
      "text/plain": []
     },
     "output_type": "execute_result"
    }
   ],
   "source": [
    "Table[i+j,{i,1,10,2},{j,10,20}]"
   ]
  },
  {
   "cell_type": "markdown",
   "id": "e5689925",
   "metadata": {},
   "source": [
    "Las matrices son listas de filas."
   ]
  },
  {
   "cell_type": "code",
   "execution_count": 109,
   "id": "f4fa5b54",
   "metadata": {},
   "outputs": [
    {
     "data": {
      "text/html": [
       "<div><img alt=\"Output\" src=\"data:image/png;base64,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\"></div>"
      ],
      "text/plain": [
       "11   12   13   14   15   16   17   18   19   20   21\n",
       "\n",
       "13   14   15   16   17   18   19   20   21   22   23\n",
       "\n",
       "15   16   17   18   19   20   21   22   23   24   25\n",
       "\n",
       "17   18   19   20   21   22   23   24   25   26   27\n",
       "\n",
       "19   20   21   22   23   24   25   26   27   28   29"
      ]
     },
     "execution_count": 109,
     "metadata": {
      "text/html": [],
      "text/plain": []
     },
     "output_type": "execute_result"
    }
   ],
   "source": [
    "MatrixForm[%]"
   ]
  },
  {
   "cell_type": "markdown",
   "id": "5fb8dca4",
   "metadata": {},
   "source": [
    "Véase `Part`, `Extract`, `Take`, `Drop`, `Append`, `AppendTo`, `Prepend`, `PrependTo`, `Insert`, `Delete`, `Join`, `Intersection`, `Union` "
   ]
  },
  {
   "cell_type": "markdown",
   "id": "d1da04c7",
   "metadata": {},
   "source": [
    "### Usando funciones con listas\n",
    "\n",
    "Los patrones que se usan en las listas son:\n",
    "- `{_}` para lista con un sólo elemento,\n",
    "- `{__}` (dos espacios) para lista con uno o más elementos,\n",
    "- `{___}` (tres espacios) para una lista con cero o más elementos."
   ]
  },
  {
   "cell_type": "code",
   "execution_count": 110,
   "id": "e5e9b0b6",
   "metadata": {},
   "outputs": [],
   "source": [
    "longitud[{}]:=0\n",
    "longitud[{_,x___}]:=1+longitud[{x}]"
   ]
  },
  {
   "cell_type": "code",
   "execution_count": 112,
   "id": "6d5676a5",
   "metadata": {},
   "outputs": [
    {
     "data": {
      "text/html": [
       "<div><pre style=\"&#102;&#111;&#110;&#116;&#45;&#102;&#97;&#109;&#105;&#108;&#121;&#58;&#32;&#34;&#67;&#111;&#117;&#114;&#105;&#101;&#114;&#32;&#78;&#101;&#119;&#34;&#44;&#67;&#111;&#117;&#114;&#105;&#101;&#114;&#44;&#109;&#111;&#110;&#111;&#115;&#112;&#97;&#99;&#101;&#59;\">&#51;</pre></div>"
      ],
      "text/plain": [
       "3"
      ]
     },
     "execution_count": 112,
     "metadata": {
      "text/html": [],
      "text/plain": []
     },
     "output_type": "execute_result"
    }
   ],
   "source": [
    "longitud[{1,2,3}]"
   ]
  },
  {
   "cell_type": "markdown",
   "id": "8ffdbabf",
   "metadata": {},
   "source": [
    "Veamos un ejemplo de cómo calcular las componentes conexas de un grafo no dirigido."
   ]
  },
  {
   "cell_type": "code",
   "execution_count": 113,
   "id": "6052ad28",
   "metadata": {},
   "outputs": [],
   "source": [
    "componentes[{vs_, ls_}] := Union[Map[{#} &, vs], ls] //. \n",
    "{xs___, {as___, x_, bs___}, ys___, {cs___, x_, ds___},  zs___} :> {xs, Union[{as, x, bs}, {cs, ds}], ys, zs}"
   ]
  },
  {
   "cell_type": "markdown",
   "id": "80e684ec",
   "metadata": {},
   "source": [
    "`Map` sirve para aplicar una función a una lista. En este caso, estamos conviertiendo una lista en una lista de listas de elementos usando `{#}&`, que es una [función anónima](https://www.wolfram.com/language/elementary-introduction/2nd-ed/26-pure-anonymous-functions.html)"
   ]
  },
  {
   "cell_type": "code",
   "execution_count": 114,
   "id": "3d9ca1e8",
   "metadata": {},
   "outputs": [
    {
     "data": {
      "text/html": [
       "<div><pre style=\"&#102;&#111;&#110;&#116;&#45;&#102;&#97;&#109;&#105;&#108;&#121;&#58;&#32;&#34;&#67;&#111;&#117;&#114;&#105;&#101;&#114;&#32;&#78;&#101;&#119;&#34;&#44;&#67;&#111;&#117;&#114;&#105;&#101;&#114;&#44;&#109;&#111;&#110;&#111;&#115;&#112;&#97;&#99;&#101;&#59;\">&#123;&#123;&#49;&#125;&#44;&#32;&#123;&#50;&#125;&#44;&#32;&#123;&#51;&#125;&#125;</pre></div>"
      ],
      "text/plain": [
       "{{1}, {2}, {3}}"
      ]
     },
     "execution_count": 114,
     "metadata": {
      "text/html": [],
      "text/plain": []
     },
     "output_type": "execute_result"
    }
   ],
   "source": [
    "Map[{#}&,{1,2,3}]"
   ]
  },
  {
   "cell_type": "code",
   "execution_count": 115,
   "id": "86e7d2fa",
   "metadata": {
    "scrolled": true
   },
   "outputs": [
    {
     "data": {
      "text/html": [
       "<div><pre style=\"&#102;&#111;&#110;&#116;&#45;&#102;&#97;&#109;&#105;&#108;&#121;&#58;&#32;&#34;&#67;&#111;&#117;&#114;&#105;&#101;&#114;&#32;&#78;&#101;&#119;&#34;&#44;&#67;&#111;&#117;&#114;&#105;&#101;&#114;&#44;&#109;&#111;&#110;&#111;&#115;&#112;&#97;&#99;&#101;&#59;\">&#123;&#123;&#49;&#44;&#32;&#50;&#44;&#32;&#51;&#125;&#44;&#32;&#123;&#52;&#44;&#32;&#53;&#125;&#44;&#32;&#123;&#54;&#125;&#125;</pre></div>"
      ],
      "text/plain": [
       "{{1, 2, 3}, {4, 5}, {6}}"
      ]
     },
     "execution_count": 115,
     "metadata": {
      "text/html": [],
      "text/plain": []
     },
     "output_type": "execute_result"
    }
   ],
   "source": [
    "componentes[{{1, 2, 3, 4, 5, 6}, {{1, 2}, {2, 3}, {4, 5}}}]"
   ]
  },
  {
   "cell_type": "markdown",
   "id": "3035e86f",
   "metadata": {},
   "source": [
    "En `WolframScript` tenemos también $\\lambda$-expresiones"
   ]
  },
  {
   "cell_type": "code",
   "execution_count": 127,
   "id": "a00ca726",
   "metadata": {},
   "outputs": [
    {
     "data": {
      "text/html": [
       "<div><pre style=\"&#102;&#111;&#110;&#116;&#45;&#102;&#97;&#109;&#105;&#108;&#121;&#58;&#32;&#34;&#67;&#111;&#117;&#114;&#105;&#101;&#114;&#32;&#78;&#101;&#119;&#34;&#44;&#67;&#111;&#117;&#114;&#105;&#101;&#114;&#44;&#109;&#111;&#110;&#111;&#115;&#112;&#97;&#99;&#101;&#59;\">&#53;</pre></div>"
      ],
      "text/plain": [
       "5"
      ]
     },
     "execution_count": 127,
     "metadata": {
      "text/html": [],
      "text/plain": []
     },
     "output_type": "execute_result"
    }
   ],
   "source": [
    "Function[x,x^2+1][2]"
   ]
  },
  {
   "cell_type": "markdown",
   "id": "8dd6b345",
   "metadata": {},
   "source": [
    "Podemos usar una variable anónima y una función pura."
   ]
  },
  {
   "cell_type": "code",
   "execution_count": 126,
   "id": "c8b8e23c",
   "metadata": {},
   "outputs": [
    {
     "data": {
      "text/html": [
       "<div><pre style=\"&#102;&#111;&#110;&#116;&#45;&#102;&#97;&#109;&#105;&#108;&#121;&#58;&#32;&#34;&#67;&#111;&#117;&#114;&#105;&#101;&#114;&#32;&#78;&#101;&#119;&#34;&#44;&#67;&#111;&#117;&#114;&#105;&#101;&#114;&#44;&#109;&#111;&#110;&#111;&#115;&#112;&#97;&#99;&#101;&#59;\">&#53;</pre></div>"
      ],
      "text/plain": [
       "5"
      ]
     },
     "execution_count": 126,
     "metadata": {
      "text/html": [],
      "text/plain": []
     },
     "output_type": "execute_result"
    }
   ],
   "source": [
    "(#^2+1)&[2]"
   ]
  },
  {
   "cell_type": "markdown",
   "id": "8e68865b",
   "metadata": {},
   "source": [
    "También nos podemos ahorrar `Map` usando `/@`."
   ]
  },
  {
   "cell_type": "code",
   "execution_count": 124,
   "id": "7e12eba9",
   "metadata": {},
   "outputs": [
    {
     "data": {
      "text/html": [
       "<div><pre style=\"&#102;&#111;&#110;&#116;&#45;&#102;&#97;&#109;&#105;&#108;&#121;&#58;&#32;&#34;&#67;&#111;&#117;&#114;&#105;&#101;&#114;&#32;&#78;&#101;&#119;&#34;&#44;&#67;&#111;&#117;&#114;&#105;&#101;&#114;&#44;&#109;&#111;&#110;&#111;&#115;&#112;&#97;&#99;&#101;&#59;\">&#123;&#50;&#44;&#32;&#53;&#44;&#32;&#49;&#48;&#125;</pre></div>"
      ],
      "text/plain": [
       "{2, 5, 10}"
      ]
     },
     "execution_count": 124,
     "metadata": {
      "text/html": [],
      "text/plain": []
     },
     "output_type": "execute_result"
    }
   ],
   "source": [
    "(#^2+1)&/@{1,2,3}"
   ]
  },
  {
   "cell_type": "markdown",
   "id": "52a98b38",
   "metadata": {},
   "source": [
    "O usar más de un argumento"
   ]
  },
  {
   "cell_type": "code",
   "execution_count": 128,
   "id": "14c56171",
   "metadata": {},
   "outputs": [
    {
     "data": {
      "text/html": [
       "<div><pre style=\"&#102;&#111;&#110;&#116;&#45;&#102;&#97;&#109;&#105;&#108;&#121;&#58;&#32;&#34;&#67;&#111;&#117;&#114;&#105;&#101;&#114;&#32;&#78;&#101;&#119;&#34;&#44;&#67;&#111;&#117;&#114;&#105;&#101;&#114;&#44;&#109;&#111;&#110;&#111;&#115;&#112;&#97;&#99;&#101;&#59;\">&#51;</pre></div>"
      ],
      "text/plain": [
       "3"
      ]
     },
     "execution_count": 128,
     "metadata": {
      "text/html": [],
      "text/plain": []
     },
     "output_type": "execute_result"
    }
   ],
   "source": [
    "(#1+#2)&[1,2]"
   ]
  }
 ],
 "metadata": {
  "kernelspec": {
   "display_name": "Wolfram Language 13",
   "language": "Wolfram Language",
   "name": "wolframlanguage13"
  },
  "language_info": {
   "codemirror_mode": "mathematica",
   "file_extension": ".m",
   "mimetype": "application/vnd.wolfram.m",
   "name": "Wolfram Language",
   "pygments_lexer": "mathematica",
   "version": "12.0"
  }
 },
 "nbformat": 4,
 "nbformat_minor": 5
}
